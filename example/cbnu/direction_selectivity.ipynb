{
 "cells": [
  {
   "cell_type": "code",
   "execution_count": 1,
   "metadata": {
    "collapsed": true,
    "pycharm": {
     "is_executing": false
    }
   },
   "outputs": [],
   "source": [
    "import os\n",
    "from collections import OrderedDict\n",
    "import numpy as np\n",
    "import pandas\n",
    "from matplotlib.figure import Figure\n",
    "from matplotlib.backends.backend_agg import FigureCanvasAgg as FigureCanvas\n",
    "import skimage.measure\n",
    "from scipy.stats import percentileofscore\n",
    "from example.cbnu.utils import get_interval\n",
    "%matplotlib inline"
   ]
  },
  {
   "cell_type": "markdown",
   "source": [
    "## Helper functions"
   ],
   "metadata": {
    "collapsed": false
   }
  },
  {
   "cell_type": "code",
   "execution_count": 2,
   "outputs": [],
   "source": [
    "def remove_nan(array):\n",
    "    return array[~np.isnan(array)]"
   ],
   "metadata": {
    "collapsed": false,
    "pycharm": {
     "name": "#%% \n",
     "is_executing": false
    }
   }
  },
  {
   "cell_type": "markdown",
   "source": [
    "## Parameter settings"
   ],
   "metadata": {
    "collapsed": false
   }
  },
  {
   "cell_type": "code",
   "execution_count": 3,
   "outputs": [],
   "source": [
    "input_path = 'C:\\\\Users\\\\user\\\\Documents\\\\Bodo_Rueckauer\\\\Data\\\\direction_selectivity'\n",
    "times_filename = '자극시점.xlsx'"
   ],
   "metadata": {
    "collapsed": false,
    "pycharm": {
     "name": "#%%\n",
     "is_executing": false
    }
   }
  },
  {
   "cell_type": "markdown",
   "source": [
    "## Load data"
   ],
   "metadata": {
    "collapsed": false
   }
  },
  {
   "cell_type": "code",
   "execution_count": 4,
   "outputs": [],
   "source": [
    "times_filepath = os.path.join(input_path, times_filename)\n",
    "output_path = os.path.join(input_path, 'output')\n",
    "if not os.path.exists(output_path):\n",
    "    os.makedirs(output_path)\n",
    "\n",
    "label_map = {'Moving_R>L': 0, 'Moving_RT>LB': 1, 'Moving_T>B': 2,  \n",
    "             'Moving_LT>RB': 3, 'Moving_L>R': 4, 'Moving_LB>RT': 5, \n",
    "             'Moving_B>T': 6, 'Moving_RB>LT': 7}\n",
    "\n",
    "num_directions = len(label_map)\n",
    "num_trials = 3  # None\n",
    "\n",
    "angles = 2 * np.pi * np.arange(num_directions) / num_directions"
   ],
   "metadata": {
    "collapsed": false,
    "pycharm": {
     "name": "#%%\n",
     "is_executing": false
    }
   }
  },
  {
   "cell_type": "code",
   "execution_count": 5,
   "outputs": [],
   "source": [
    "trigger_sheet = pandas.read_excel(times_filepath, sheet_name=0, header=1, \n",
    "                                  skiprows=1, nrows=num_trials,\n",
    "                                  usecols=2+np.arange(num_directions))"
   ],
   "metadata": {
    "collapsed": false,
    "pycharm": {
     "name": "#%%\n",
     "is_executing": false
    }
   }
  },
  {
   "cell_type": "code",
   "execution_count": 6,
   "outputs": [],
   "source": [
    "trigger_times = trigger_sheet.values\n",
    "\n",
    "if num_trials is None:\n",
    "    num_trials = trigger_times.shape[1]\n",
    "\n",
    "all_trigger_times = np.ravel(trigger_times)\n",
    "trigger_durations = np.diff(all_trigger_times)\n",
    "# Add a trigger duration for final trigger.\n",
    "trigger_durations = np.concatenate([trigger_durations, \n",
    "                                    [np.median(trigger_durations)]])\n",
    "\n",
    "spike_sheet = pandas.read_excel(times_filepath, sheet_name=1, header=0)\n",
    "\n",
    "spike_times_cells = OrderedDict()\n",
    "for cell_name, cell_data in spike_sheet.items():\n",
    "    if 'ch_' not in cell_name:\n",
    "        continue\n",
    "    spike_times_cells[cell_name] = remove_nan(cell_data.to_numpy())"
   ],
   "metadata": {
    "collapsed": false,
    "pycharm": {
     "name": "#%%\n",
     "is_executing": false
    }
   }
  },
  {
   "cell_type": "code",
   "execution_count": 7,
   "outputs": [],
   "source": [
    "def snr(data):\n",
    "    return np.var(np.mean(data, 0), -1) / np.mean(np.var(data, -1), 0)"
   ],
   "metadata": {
    "collapsed": false,
    "pycharm": {
     "name": "#%%\n",
     "is_executing": false
    }
   }
  },
  {
   "cell_type": "code",
   "execution_count": 8,
   "outputs": [],
   "source": [
    "all_cells = [k for k in spike_sheet.keys() if 'ch_' in k]"
   ],
   "metadata": {
    "collapsed": false,
    "pycharm": {
     "name": "#%%\n",
     "is_executing": false
    }
   }
  },
  {
   "cell_type": "code",
   "execution_count": 11,
   "outputs": [
    {
     "name": "stderr",
     "text": [
      "c:\\users\\user\\anaconda3\\envs\\spike_sorting\\lib\\site-packages\\ipykernel_launcher.py:2: RuntimeWarning: invalid value encountered in true_divide\n",
      "  \n",
      "c:\\users\\user\\anaconda3\\envs\\spike_sorting\\lib\\site-packages\\ipykernel_launcher.py:71: RuntimeWarning: invalid value encountered in greater\n"
     ],
     "output_type": "stream"
    }
   ],
   "source": [
    "angles_deg = ['', '0', '45', '90', '135', '180', '225', '270', '315']\n",
    "cmap = 'autumn'\n",
    "sample_rate = 25000\n",
    "cells_to_plot = all_cells  # ['ch_71a', 'ch_71b', 'ch_72a', 'ch_72b']\n",
    "num_cells = len(cells_to_plot)\n",
    "min_duration = np.min(trigger_durations)\n",
    "min_ticks = int(sample_rate * min_duration)\n",
    "num_bins = 32\n",
    "num_permuations = 1000\n",
    "projection = np.exp(1j * angles)\n",
    "\n",
    "for cell_label in cells_to_plot:\n",
    "    fig = Figure(figsize=(10, 14))\n",
    "    canvas = FigureCanvas(fig)\n",
    "    ax00 = fig.add_subplot(4, 2, 1, projection='polar')\n",
    "    ax01 = fig.add_subplot(4, 2, 2, projection='polar')\n",
    "    ax10 = fig.add_subplot(4, 2, 3)\n",
    "    ax11 = fig.add_subplot(4, 2, 4)\n",
    "    ax20 = fig.add_subplot(4, 2, 5)\n",
    "    ax21 = fig.add_subplot(4, 2, 6)\n",
    "    ax30 = fig.add_subplot(4, 2, 7)\n",
    "    ax31 = fig.add_subplot(4, 2, 8)\n",
    "    \n",
    "    spike_times_cell = spike_times_cells[cell_label]\n",
    "    spike_sums = np.zeros((num_trials, num_directions, num_bins))\n",
    "    for trial_idx, trigger_times_trial in enumerate(trigger_times):\n",
    "        for direction_idx, trigger_time_direction in enumerate(trigger_times_trial):\n",
    "            start = trigger_time_direction\n",
    "            spike_times = get_interval(spike_times_cell, start, start + min_duration)\n",
    "            spike_ticks = ((spike_times - start) * sample_rate).astype(int)\n",
    "            spike_mask = np.zeros(min_ticks)\n",
    "            spike_mask[spike_ticks] = 1\n",
    "            spike_sum = skimage.measure.block_reduce(\n",
    "                spike_mask, (min_ticks // num_bins,))[:num_bins]\n",
    "            spike_sums[trial_idx, direction_idx] = spike_sum\n",
    "        \n",
    "        total_spike_counts = np.sum(spike_sums[trial_idx], -1)\n",
    "        ax00.plot(angles, total_spike_counts, 'b', linewidth=0.5)\n",
    "        ax00.plot((angles[-1], angles[0]), (total_spike_counts[-1], \n",
    "                                            total_spike_counts[0]), \n",
    "                  'b', linewidth=0.5)\n",
    "        \n",
    "        mat = spike_sums[trial_idx] / max(1, np.max(spike_sums[trial_idx]))\n",
    "        u, s, vh = np.linalg.svd(mat.transpose(), full_matrices=False)\n",
    "        vv = vh[0]\n",
    "        vv *= -1 \n",
    "        ax01.plot(angles, vv, 'b', linewidth=0.5)\n",
    "        ax01.plot([angles[-1], angles[0]], [vv[-1], vv[0]], 'b', linewidth=0.5)\n",
    "    \n",
    "    mean_spike_counts = np.mean(np.sum(spike_sums, -1), 0)\n",
    "    # mean_spike_counts /= np.max(mean_spike_counts)\n",
    "    ax00.plot(angles, mean_spike_counts, 'k', marker='o')\n",
    "    ax00.plot((angles[-1], angles[0]), (mean_spike_counts[-1], \n",
    "                                        mean_spike_counts[0]), 'k')\n",
    "    vectorsum = np.dot(projection, mean_spike_counts)\n",
    "    dsi = np.abs(vectorsum)\n",
    "    ax00.plot((0, np.angle(vectorsum)), (0, dsi), color='r')\n",
    "\n",
    "    mat = np.mean(spike_sums, 0)\n",
    "    mat /= np.max(mat)\n",
    "    u, s, vh = np.linalg.svd(mat.transpose(), full_matrices=False)\n",
    "    vv = vh[0]\n",
    "    mat_reconstructed = s[0] * np.outer(u[:, 0], vv)\n",
    "    vv *= -1\n",
    "    # ax21.matshow(mat_reconstructed.transpose(), cmap=cmap)\n",
    "    ax21.matshow(np.expand_dims(vv, -1), cmap=cmap)\n",
    "    ax31.matshow(mat, cmap=cmap)\n",
    "    snr_ = snr(spike_sums)\n",
    "    ax01.plot(angles, vv, 'k')#, marker='o', markerfacecolor='none')\n",
    "    ax01.plot((angles[-1], angles[0]), (vv[-1], vv[0]), 'k')\n",
    "    ax01.scatter(angles[snr_ > 0.6], vv[snr_ > 0.6], marker='o', color='k')\n",
    "    vectorsum1 = np.dot(projection, vv)\n",
    "    dsi1 = np.abs(vectorsum1)\n",
    "    ax01.plot((0, np.angle(vectorsum1)), (ax01.get_ylim()[0], dsi1), color='r')\n",
    "      \n",
    "    mean_spike_counts_copy = np.copy(mean_spike_counts)\n",
    "    dsis_permuted = []\n",
    "    for i in range(num_permuations):\n",
    "        np.random.shuffle(mean_spike_counts_copy)\n",
    "        dsi_permuted = np.abs(np.dot(projection, mean_spike_counts_copy))\n",
    "        dsis_permuted.append(dsi_permuted)\n",
    "    p = 1 - percentileofscore(dsis_permuted, dsi) / 100\n",
    "    ax10.hist(dsis_permuted, 'auto', histtype='stepfilled')\n",
    "    ax10.vlines(dsi, 0, ax10.get_ylim()[1], 'r')\n",
    "    ax10.text(dsi, 0, \"p={:.2f}\".format(p), color='r', \n",
    "              horizontalalignment='center', verticalalignment='top')\n",
    "    \n",
    "    mat_copy = np.copy(mat)\n",
    "    dsis_permuted = []\n",
    "    for i in range(num_permuations):\n",
    "        np.random.shuffle(mat_copy)\n",
    "        u, s, vh = np.linalg.svd(mat_copy.transpose(), full_matrices=False)\n",
    "        vv = vh[0]\n",
    "        vv *= -1\n",
    "        dsi_permuted = np.abs(np.dot(projection, vv))\n",
    "        dsis_permuted.append(dsi_permuted)\n",
    "    p1 = 1 - percentileofscore(dsis_permuted, dsi1) / 100\n",
    "    ax11.hist(dsis_permuted, 'auto', histtype='stepfilled')\n",
    "    ax11.vlines(dsi1, 0, ax11.get_ylim()[1], 'r')\n",
    "    ax11.text(dsi1, 0, \"p={:.2f}\".format(p1), color='r',\n",
    "              horizontalalignment='center', verticalalignment='top')\n",
    "    \n",
    "    ax20.matshow(np.expand_dims(mean_spike_counts, -1), cmap=cmap)\n",
    "       \n",
    "    ax01.set_ylim(None, 1)\n",
    "    ax10.spines['top'].set_visible(False)\n",
    "    ax10.spines['bottom'].set_visible(False)\n",
    "    ax10.spines['right'].set_visible(False)\n",
    "    ax10.spines['left'].set_visible(False)\n",
    "    ax11.spines['top'].set_visible(False)\n",
    "    ax11.spines['bottom'].set_visible(False)\n",
    "    ax11.spines['right'].set_visible(False)\n",
    "    ax11.spines['left'].set_visible(False)\n",
    "    ax11.xaxis.set_ticks([])\n",
    "    ax10.yaxis.set_ticks([])\n",
    "    ax10.xaxis.set_ticks([])\n",
    "    ax11.yaxis.set_ticks([])\n",
    "    ax21.xaxis.set_ticks([])\n",
    "    ax20.xaxis.set_ticks([])\n",
    "    ax31.xaxis.set_ticks([])\n",
    "    ax10.xaxis.set_ticklabels([])\n",
    "    ax11.xaxis.set_ticklabels([])\n",
    "    ax10.yaxis.set_ticklabels([])\n",
    "    ax11.yaxis.set_ticklabels([])\n",
    "    ax20.xaxis.set_ticklabels([])\n",
    "    ax21.xaxis.set_ticklabels([])\n",
    "    ax20.yaxis.set_ticklabels(angles_deg)\n",
    "    ax21.yaxis.set_ticklabels(angles_deg)\n",
    "    ax31.xaxis.set_ticklabels([])\n",
    "    ax31.yaxis.set_ticklabels(angles_deg)\n",
    "    ax10.set_xlabel('DSi')\n",
    "    ax11.set_xlabel('DSi')\n",
    "    ax31.set_xlabel('Time')\n",
    "    ax30.set_axis_off()\n",
    "    \n",
    "    # fig.subplots_adjust(wspace=0, hspace=0)\n",
    "\n",
    "    canvas.print_figure(os.path.join(output_path, cell_label), \n",
    "                        bbox_inches='tight')"
   ],
   "metadata": {
    "collapsed": false,
    "pycharm": {
     "name": "#%%\n",
     "is_executing": false
    }
   }
  },
  {
   "cell_type": "code",
   "execution_count": 9,
   "outputs": [],
   "source": [],
   "metadata": {
    "collapsed": false,
    "pycharm": {
     "name": "#%%\n",
     "is_executing": false
    }
   }
  }
 ],
 "metadata": {
  "kernelspec": {
   "display_name": "Python 3",
   "language": "python",
   "name": "python3"
  },
  "language_info": {
   "codemirror_mode": {
    "name": "ipython",
    "version": 2
   },
   "file_extension": ".py",
   "mimetype": "text/x-python",
   "name": "python",
   "nbconvert_exporter": "python",
   "pygments_lexer": "ipython2",
   "version": "2.7.6"
  },
  "pycharm": {
   "stem_cell": {
    "cell_type": "raw",
    "source": [
     "# coding=utf-8\n"
    ],
    "metadata": {
     "collapsed": false
    }
   }
  }
 },
 "nbformat": 4,
 "nbformat_minor": 0
}