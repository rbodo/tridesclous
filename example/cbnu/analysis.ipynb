{
 "cells": [
  {
   "cell_type": "code",
   "execution_count": 16,
   "outputs": [],
   "source": [
    "import os\n",
    "import subprocess\n",
    "from collections import OrderedDict\n",
    "import numpy as np\n",
    "import pandas\n",
    "from McsPy.McsData import RawData\n",
    "from matplotlib.figure import Figure\n",
    "from matplotlib.backends.backend_agg import FigureCanvasAgg as FigureCanvas\n",
    "from matplotlib.ticker import FormatStrFormatter, ScalarFormatter\n",
    "from matplotlib.patches import ConnectionPatch\n",
    "from tridesclous.datasource import get_all_channel_data"
   ],
   "metadata": {
    "collapsed": false,
    "pycharm": {
     "name": "#%%\n",
     "is_executing": false
    }
   }
  },
  {
   "cell_type": "markdown",
   "source": [
    "## Helper functions"
   ],
   "metadata": {
    "collapsed": false,
    "pycharm": {
     "name": "#%% md\n"
    }
   }
  },
  {
   "cell_type": "code",
   "execution_count": 4,
   "outputs": [],
   "source": [
    "def remove_nan(array):\n",
    "    return array[~np.isnan(array)]"
   ],
   "metadata": {
    "collapsed": false,
    "pycharm": {
     "name": "#%% \n",
     "is_executing": false
    }
   }
  },
  {
   "cell_type": "markdown",
   "source": [
    "## Parameter settings"
   ],
   "metadata": {
    "collapsed": false
   }
  },
  {
   "cell_type": "code",
   "execution_count": 5,
   "outputs": [],
   "source": [
    "# input_path = '\\\\\\Physiology-csk\\\\mea\\\\MEA1060\\\\TEST\\\\20191129_SpikeSorting_WT_PNW12_Male\\\\Righteye'\n",
    "input_path = 'C:\\\\Users\\\\user\\\\Documents\\\\Bodo_Rueckauer\\\\Data\\\\raw\\\\All'\n",
    "times_filename = '자극시점.xlsx'\n",
    "traces_filename = 'DATA_spont_light_electric_ch55.mcd'"
   ],
   "metadata": {
    "collapsed": false,
    "pycharm": {
     "name": "#%%\n",
     "is_executing": false
    }
   }
  },
  {
   "cell_type": "markdown",
   "source": [
    "## Load data"
   ],
   "metadata": {
    "collapsed": false
   }
  },
  {
   "cell_type": "code",
   "execution_count": 6,
   "outputs": [],
   "source": [
    "times_filepath = os.path.join(input_path, times_filename)\n",
    "traces_filepath = os.path.join(input_path, traces_filename)\n",
    "output_path = os.path.join(input_path, 'plots')\n",
    "if not os.path.exists(output_path):\n",
    "    os.makedirs(output_path)\n",
    "\n",
    "trigger_sheet = pandas.read_excel(times_filepath, sheet_name=0, header=1, \n",
    "                                  index_col=0, skiprows=1)\n",
    "\n",
    "trigger_times = OrderedDict({\n",
    "    'Full-field': OrderedDict(\n",
    "        {'Full-field': None}),\n",
    "    'Moving bar': OrderedDict(\n",
    "        {'Moving_L>R': None, 'Moving_R>L': None, 'Moving_T>B': None, \n",
    "         'Moving_B>T': None, 'Moving_LT>RB': None, 'Moving_LB>RT': None,\n",
    "         'Moving_RT>LB': None, 'Moving_RB>LT': None}),\n",
    "    'Electric': OrderedDict(\n",
    "        {'Cathodic': OrderedDict(\n",
    "            {'10uA_0.5ms': None, '30uA_0.5ms': None, '50uA_0.5ms': None, \n",
    "             '10uA_1ms': None, '30uA_1ms': None, '50uA_1ms': None, \n",
    "             '10uA_2ms': None, '30uA_2ms': None, '50uA_2ms': None, \n",
    "             '10uA_4ms': None, '30uA_4ms': None, '50uA_4ms': None}),\n",
    "         'Anodic': OrderedDict(\n",
    "             {'10uA_0.5ms': None, '30uA_0.5ms': None, '50uA_0.5ms': None, \n",
    "              '10uA_1ms': None, '30uA_1ms': None, '50uA_1ms': None, \n",
    "              '10uA_2ms': None, '30uA_2ms': None, '50uA_2ms': None, \n",
    "              '10uA_4ms': None, '30uA_4ms': None, '50uA_4ms': None})})})\n",
    "\n",
    "plot_kwargs = {\n",
    "    'Full-field': {'pre': 0.5, 'post': 6, 'ymin': None, 'ymax': None, \n",
    "                   'num_bins': 100, 'cells_to_plot': ['ch_71a', 'ch_71b']},\n",
    "    'Moving bar': {'pre': 0.5, 'post': 5, 'ymin': None, 'ymax': None, \n",
    "                   'num_bins': 100, 'cells_to_plot': ['ch_71a', 'ch_71b']},\n",
    "    'Electric': {'pre': 1, 'post': 1, 'ymin': None, 'ymax': None, \n",
    "                 'num_bins': 100, 'cells_to_plot': ['ch_71a', 'ch_71b']}}\n",
    "\n",
    "for section in trigger_times.values():\n",
    "    for key, subsection in section.items():\n",
    "        if type(subsection) == OrderedDict:\n",
    "            for subkey in subsection.keys():\n",
    "                subsection[subkey] = remove_nan(trigger_sheet[subkey].to_numpy())\n",
    "        else:\n",
    "            section[key] = remove_nan(trigger_sheet[key].to_numpy())\n",
    "\n",
    "spike_sheet = pandas.read_excel(times_filepath, sheet_name=1, header=0)\n",
    "\n",
    "spike_times = OrderedDict()\n",
    "for cell_name, cell_data in spike_sheet.items():\n",
    "    if 'ch_' not in cell_name:\n",
    "        continue\n",
    "    spike_times[cell_name] = remove_nan(cell_data.to_numpy())\n",
    "    "
   ],
   "metadata": {
    "collapsed": false,
    "pycharm": {
     "name": "#%%\n",
     "is_executing": false
    }
   }
  },
  {
   "cell_type": "markdown",
   "source": [
    "### Convert mcd to h5"
   ],
   "metadata": {
    "collapsed": false,
    "pycharm": {
     "name": "#%% md\n",
     "is_executing": false
    }
   }
  },
  {
   "cell_type": "code",
   "execution_count": 7,
   "outputs": [],
   "source": [
    "basename, ext = os.path.splitext(traces_filepath)\n",
    "traces_filepath_h5 = basename + '.h5'"
   ],
   "metadata": {
    "collapsed": false,
    "pycharm": {
     "name": "#%%\n",
     "is_executing": false
    }
   }
  },
  {
   "cell_type": "code",
   "execution_count": 34,
   "outputs": [],
   "source": [
    "if ext in {'.mcd', '.msrs'}:\n",
    "    subprocess.run([\"MCDataConv\", \"-t\", \"hdf5\", traces_filepath])\n",
    "elif ext == '.msrd':\n",
    "    subprocess.run([\"MCDataConv\", \"-t\", \"hdf5\", basename + '.msrs'])\n",
    "else:\n",
    "    raise NotImplementedError"
   ],
   "metadata": {
    "collapsed": false,
    "pycharm": {
     "name": "#%%\n",
     "is_executing": false
    }
   }
  },
  {
   "cell_type": "code",
   "execution_count": 8,
   "outputs": [
    {
     "name": "stdout",
     "text": [
      "Recording_0 <HDF5 group \"/Data/Recording_0\" (1 members)>\nStream_0 <HDF5 group \"/Data/Recording_0/AnalogStream/Stream_0\" (3 members)>\nChannelData <HDF5 dataset \"ChannelData\": shape (60, 44315000), type \"<i4\">\nChannelDataTimeStamps <HDF5 dataset \"ChannelDataTimeStamps\": shape (1, 3), type \"<i8\">\nInfoChannel <HDF5 dataset \"InfoChannel\": shape (60,), type \"|V108\">\nStream_1 <HDF5 group \"/Data/Recording_0/AnalogStream/Stream_1\" (3 members)>\nChannelData <HDF5 dataset \"ChannelData\": shape (3, 44315000), type \"<i4\">\nChannelDataTimeStamps <HDF5 dataset \"ChannelDataTimeStamps\": shape (1, 3), type \"<i8\">\nInfoChannel <HDF5 dataset \"InfoChannel\": shape (3,), type \"|V108\">\n"
     ],
     "output_type": "stream"
    }
   ],
   "source": [
    "def load_h5(path):\n",
    "\n",
    "    data = RawData(path)\n",
    "    assert len(data.recordings) == 1, \\\n",
    "        \"Can only handle a single recording per file.\"\n",
    "\n",
    "    electrode_data = None\n",
    "    for stream_id, stream in data.recordings[0].analog_streams.items():\n",
    "        if stream.data_subtype == 'Electrode':\n",
    "            electrode_data = stream\n",
    "            break\n",
    "    assert electrode_data is not None, \"Electrode data not found.\"\n",
    "\n",
    "    _traces, _sample_rate = get_all_channel_data(electrode_data)\n",
    "\n",
    "    return _traces, _sample_rate\n",
    "\n",
    "traces, sample_rate = load_h5(traces_filepath_h5)"
   ],
   "metadata": {
    "collapsed": false,
    "pycharm": {
     "name": "#%%\n",
     "is_executing": false
    }
   }
  },
  {
   "cell_type": "markdown",
   "source": [
    "## Plotting"
   ],
   "metadata": {
    "collapsed": false,
    "pycharm": {
     "name": "#%% md\n"
    }
   }
  },
  {
   "cell_type": "code",
   "execution_count": 20,
   "outputs": [],
   "source": [
    "label_map = {}\n",
    "num_rows = 8\n",
    "num_columns = 8\n",
    "to_skip = {(0, 0), (0, num_columns - 1), (num_rows - 1, 0),\n",
    "           (num_rows - 1, num_columns - 1)}\n",
    "\n",
    "for c in range(num_columns):\n",
    "    for r in range(num_rows):\n",
    "        if (r, c) in to_skip:\n",
    "            continue\n",
    "        label_map[\"{}{}\".format(c + 1, r + 1)] = len(label_map)\n",
    "\n",
    "def plot_cell(_traces, _spike_times, _trigger_times, path, _title, \n",
    "              stimulus_type, _sample_rate, _cell_name, **_kwargs):\n",
    "\n",
    "    num_bins = _kwargs.get('num_bins', None)\n",
    "    if num_bins is None:\n",
    "        num_bins = 'auto'\n",
    "\n",
    "    diff = np.diff(_trigger_times)\n",
    "    m = np.median(diff)\n",
    "\n",
    "    pre = _kwargs.get('pre', None)\n",
    "    if pre is None:\n",
    "        pre = 1\n",
    "        if pre > m:\n",
    "            pre = m\n",
    "\n",
    "    post = _kwargs.get('post', None)\n",
    "    if post is None:\n",
    "        post = 1\n",
    "        if post > m:\n",
    "            post = m\n",
    "    \n",
    "    start = int((_trigger_times[0] - pre) * _sample_rate)\n",
    "    stop = int((_trigger_times[-1] + post) * _sample_rate)\n",
    "    tr = _traces[np.arange(start, stop)]\n",
    "\n",
    "    ymin = _kwargs.get('ymin', None)\n",
    "    if ymin is None:\n",
    "        ymin = np.min(tr)\n",
    "        if ymin < -1e-3:\n",
    "            ymin = np.percentile(tr[tr < 0], 2)\n",
    "\n",
    "    ymax = _kwargs.get('ymax', None)\n",
    "    if ymax is None:\n",
    "        ymax = np.max(tr)\n",
    "        if ymax > 1e-3:\n",
    "            ymax = np.percentile(tr[tr > 0], 98)\n",
    "\n",
    "    mask = np.logical_and(\n",
    "        np.greater_equal(_spike_times, _trigger_times[0] - pre),\n",
    "        np.less(_spike_times, _trigger_times[-1] + post))\n",
    "    spike_times_section = _spike_times[mask]\n",
    "\n",
    "    spike_times_zerocentered = []\n",
    "    \n",
    "    num_trials = len(_trigger_times)\n",
    "\n",
    "    figure = Figure()\n",
    "    canvas = FigureCanvas(figure)\n",
    "    axes = figure.subplots(num_trials + 2, 1)\n",
    "    axes[-1].set_xlabel(\"Time [s]\")\n",
    "    color = 'k'\n",
    "    for i in range(num_trials):\n",
    "        trigger_time = _trigger_times[i]\n",
    "        t_pre = trigger_time - pre\n",
    "        t_post = trigger_time + post\n",
    "        start = int(t_pre * _sample_rate)\n",
    "        stop = int(t_post * _sample_rate)\n",
    "        trace = _traces[np.arange(start, stop)]\n",
    "        axes[i].set_ylim(ymin, ymax)\n",
    "        axes[i].set_xlim(0, (pre + post) * sample_rate)\n",
    "        axes[i].plot(trace, color=color, linewidth=0.1)\n",
    "        if i > 0:\n",
    "            axes[i].axis('off')\n",
    "        \n",
    "        mask = np.logical_and(np.greater_equal(spike_times_section, t_pre),\n",
    "                              np.less(spike_times_section, t_post))\n",
    "        x = spike_times_section[mask]\n",
    "        if len(x):\n",
    "            x -= trigger_time\n",
    "        spike_times_zerocentered.append(x)\n",
    "        \n",
    "    axes[-2].eventplot(spike_times_zerocentered, color=color, linewidths=0.5,\n",
    "                       lineoffsets=-1)\n",
    "\n",
    "    counts, _, _ = axes[-1].hist(np.concatenate(spike_times_zerocentered),\n",
    "                                 num_bins, histtype='stepfilled',\n",
    "                                 facecolor=color)\n",
    "    \n",
    "    fmt = ScalarFormatter()\n",
    "    fmt.set_scientific(True)\n",
    "    fmt.set_powerlimits((-3, 4))\n",
    "    axes[0].yaxis.set_major_formatter(fmt)\n",
    "    axes[0].spines['top'].set_visible(False)\n",
    "    axes[0].spines['right'].set_visible(False)\n",
    "    axes[0].spines['bottom'].set_visible(False)\n",
    "    axes[0].set_xticks([])\n",
    "    axes[-2].set_xlim(-pre, post)\n",
    "    axes[-2].axis('off')\n",
    "    axes[-1].set_xlim(-pre, post)\n",
    "    axes[-1].yaxis.set_major_formatter(FormatStrFormatter('%d'))\n",
    "    axes[-1].spines['top'].set_visible(False)\n",
    "    axes[-1].spines['right'].set_visible(False)\n",
    "    axes[-1].add_artist(ConnectionPatch((0, 0), (pre * _sample_rate, ymax), \n",
    "                                        'data', 'data', axes[-1], axes[0], \n",
    "                                        color='r'))\n",
    "    \n",
    "    figure.subplots_adjust(wspace=0, hspace=0)\n",
    "    stimulus_type = stimulus_type.replace('>', '-')\n",
    "    filepath = os.path.join(path, '{}_{}_{}.png'.format(_cell_name, _title, \n",
    "                                                        stimulus_type))\n",
    "    canvas.print_figure(filepath, bbox_inches='tight', dpi=200)\n",
    "\n",
    "\n",
    "for cell_name, cell_spikes in spike_times.items():\n",
    "    \n",
    "    channel_idx = label_map[cell_name[3:5]]\n",
    "    channel_data = traces[:, channel_idx]           \n",
    "    for title, section in trigger_times.items():\n",
    "        kwargs = plot_kwargs[title]\n",
    "        cells_to_plot = kwargs.get('cells_to_plot', None)\n",
    "        for key, subsection in section.items():\n",
    "            if cells_to_plot is not None and cell_name not in cells_to_plot:\n",
    "                continue\n",
    "            if type(subsection) == OrderedDict:\n",
    "                for subkey in subsection.keys():\n",
    "                    plot_cell(channel_data, cell_spikes, subsection[subkey],\n",
    "                              output_path, '{} ({})'.format(title, key), \n",
    "                              subkey, sample_rate, cell_name, **kwargs)\n",
    "            else:\n",
    "                plot_cell(channel_data, cell_spikes, section[key], output_path,\n",
    "                          title, key, sample_rate, cell_name, **kwargs)"
   ],
   "metadata": {
    "collapsed": false,
    "pycharm": {
     "name": "#%%\n",
     "is_executing": false
    }
   }
  },
  {
   "cell_type": "code",
   "execution_count": null,
   "outputs": [],
   "source": [
    "\n"
   ],
   "metadata": {
    "collapsed": false,
    "pycharm": {
     "name": "#%%\n"
    }
   }
  }
 ],
 "metadata": {
  "kernelspec": {
   "display_name": "Python 3",
   "language": "python",
   "name": "python3"
  },
  "language_info": {
   "codemirror_mode": {
    "name": "ipython",
    "version": 2
   },
   "file_extension": ".py",
   "mimetype": "text/x-python",
   "name": "python",
   "nbconvert_exporter": "python",
   "pygments_lexer": "ipython2",
   "version": "2.7.6"
  },
  "pycharm": {
   "stem_cell": {
    "cell_type": "raw",
    "source": [
     "# coding=utf-8\n"
    ],
    "metadata": {
     "collapsed": false
    }
   }
  }
 },
 "nbformat": 4,
 "nbformat_minor": 0
}