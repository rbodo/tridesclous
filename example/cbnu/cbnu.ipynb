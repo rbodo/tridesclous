{
 "cells": [
  {
   "cell_type": "code",
   "execution_count": 1,
   "metadata": {
    "pycharm": {
     "is_executing": false
    }
   },
   "outputs": [],
   "source": [
    "import os\n",
    "import shutil\n",
    "import numpy as np\n",
    "import matplotlib.pyplot as plt\n",
    "import tridesclous as tdc\n",
    "from scipy.signal import iirnotch, lfilter_zi, lfilter, filtfilt, find_peaks\n",
    "%matplotlib inline"
   ]
  },
  {
   "cell_type": "markdown",
   "metadata": {},
   "source": [
    "## DataIO"
   ]
  },
  {
   "cell_type": "code",
   "execution_count": 4,
   "metadata": {
    "pycharm": {
     "is_executing": false
    }
   },
   "outputs": [
    {
     "name": "stdout",
     "text": [
      "Loading .h5 file: C:\\Users\\user\\Documents\\Bodo_Rueckauer\\Data\\raw\\Electrical stimulus\\Pig_20191113_Retina#3_SubDGIST_2100_50uA_1ms_ch8\\Try2_2019-11-13T18-29-30.h5",
      "\n",
      "Recording_0",
      " ",
      "<HDF5 group \"/Data/Recording_0\" (2 members)>",
      "\n",
      "Stream_0",
      " ",
      "<HDF5 group \"/Data/Recording_0/AnalogStream/Stream_0\" (3 members)>",
      "\n",
      "ChannelData",
      " ",
      "<HDF5 dataset \"ChannelData\": shape (60, 895000), type \"<i4\">",
      "\n",
      "ChannelDataTimeStamps",
      " ",
      "<HDF5 dataset \"ChannelDataTimeStamps\": shape (1, 3), type \"<i8\">",
      "\n",
      "InfoChannel",
      " ",
      "<HDF5 dataset \"InfoChannel\": shape (60,), type \"|V108\">",
      "\n",
      "Stream_1",
      " ",
      "<HDF5 group \"/Data/Recording_0/AnalogStream/Stream_1\" (3 members)>",
      "\n",
      "ChannelData",
      " ",
      "<HDF5 dataset \"ChannelData\": shape (1, 895000), type \"<i4\">",
      "\n",
      "ChannelDataTimeStamps",
      " ",
      "<HDF5 dataset \"ChannelDataTimeStamps\": shape (1, 3), type \"<i8\">",
      "\n",
      "InfoChannel",
      " ",
      "<HDF5 dataset \"InfoChannel\": shape (1,), type \"|V108\">",
      "\n",
      "Stream_0",
      " ",
      "<HDF5 group \"/Data/Recording_0/EventStream/Stream_0\" (2 members)>",
      "\n",
      "EventEntity_0",
      " ",
      "<HDF5 dataset \"EventEntity_0\": shape (5, 31), type \"<i8\">",
      "\n",
      "InfoEvent",
      " ",
      "<HDF5 dataset \"InfoEvent\": shape (1,), type \"|V44\">",
      "\n",
      "Stream_1",
      " ",
      "<HDF5 group \"/Data/Recording_0/EventStream/Stream_1\" (1 members)>",
      "\n",
      "InfoEvent",
      " ",
      "<HDF5 dataset \"InfoEvent\": shape (12,), type \"|V44\">",
      "\n",
      "WARNING: Multiple stimulus streams detected!",
      "\n",
      "Finished initializing DataSource.",
      "\n",
      "DataIO <id: 2472685690248> \n  workdir: C:\\Users\\user\\Documents\\Bodo_Rueckauer\\Data\\raw\\Electrical stimulus\\Pig_20191113_Retina#3_SubDGIST_2100_50uA_1ms_ch8\\tdc_output2\n  sample_rate: 25000\n  total_channel: 60\n  channel_groups: 0 [ch47 ch48 ch46 ch45 ... ch55 ch56 ch58 ch57]\n  nb_segment: 1\n  length: 895000\n  durations: 35.8 s.",
      "\n"
     ],
     "output_type": "stream"
    }
   ],
   "source": [
    "path_wd = 'C:\\\\Users\\\\user\\\\Documents\\\\Bodo_Rueckauer\\\\Data\\\\raw\\\\Electrical stimulus\\\\Pig_20191113_Retina#3_SubDGIST_2100_50uA_1ms_ch8'\n",
    "path_out = os.path.join(path_wd, 'tdc_output2')\n",
    "\n",
    "if os.path.exists(path_out):\n",
    "    shutil.rmtree(path_out)   \n",
    "\n",
    "dataio = tdc.DataIO(path_out)\n",
    "\n",
    "path_data = os.path.join(path_wd, 'Try2_2019-11-13T18-29-30.h5')\n",
    "dataio.set_data_source(type='h5', filenames=[path_data])\n",
    "print(dataio)"
   ]
  },
  {
   "cell_type": "code",
   "execution_count": 6,
   "outputs": [],
   "source": [
    "path_probe = os.path.join(path_out, 'electrode_selection.prb')\n",
    "\n",
    "probe_string = ('''\\\n",
    "n_electrodes = 60\n",
    "channel_groups = {0: {'channels': list(range(n_electrodes)), \n",
    "                      'geometry': {k: [0, k * 200] for k in range(n_electrodes)}}}\n",
    "''')\n",
    "\n",
    "# with open(path_probe, 'w') as f:\n",
    "#     f.write(probe_string)\n",
    "    \n",
    "dataio.set_probe_file(path_probe)"
   ],
   "metadata": {
    "collapsed": false,
    "pycharm": {
     "name": "#%%\n",
     "is_executing": false
    }
   }
  },
  {
   "cell_type": "markdown",
   "metadata": {},
   "source": [
    "## CatalogueConstructor"
   ]
  },
  {
   "cell_type": "code",
   "execution_count": 7,
   "metadata": {
    "pycharm": {
     "is_executing": false
    }
   },
   "outputs": [
    {
     "name": "stdout",
     "text": [
      "CatalogueConstructor\n  chan_grp ch12 - ch12\n  Signal pre-processing not done yet",
      "\n"
     ],
     "output_type": "stream"
    }
   ],
   "source": [
    "catalogueconstructor = tdc.CatalogueConstructor(dataio)\n",
    "print(catalogueconstructor)"
   ]
  },
  {
   "cell_type": "code",
   "execution_count": 8,
   "metadata": {
    "pycharm": {
     "is_executing": false
    }
   },
   "outputs": [],
   "source": [
    "catalogueconstructor.set_preprocessor_params(highpass_freq=100, \n",
    "                                             lowpass_freq=None, \n",
    "                                             relative_threshold=4)"
   ]
  },
  {
   "cell_type": "markdown",
   "metadata": {},
   "source": [
    "## Median and MAD per channel"
   ]
  },
  {
   "cell_type": "code",
   "execution_count": 9,
   "metadata": {
    "pycharm": {
     "is_executing": false
    }
   },
   "outputs": [
    {
     "name": "stdout",
     "text": [
      "[2.6054033e-07]",
      "\n",
      "[6.730112e-06]",
      "\n"
     ],
     "output_type": "stream"
    }
   ],
   "source": [
    "catalogueconstructor.estimate_signals_noise()\n",
    "print(catalogueconstructor.signals_medians)\n",
    "print(catalogueconstructor.signals_mads)"
   ]
  },
  {
   "cell_type": "markdown",
   "metadata": {},
   "source": [
    "## Signal preprocessing and peak detection"
   ]
  },
  {
   "cell_type": "code",
   "execution_count": 10,
   "metadata": {
    "pycharm": {
     "is_executing": false
    }
   },
   "outputs": [
    {
     "name": "stdout",
     "text": [
      "CatalogueConstructor\n  chan_grp ch12 - ch12\n  nb_peak_by_segment: 3070\n  cluster_labels [-11]\n",
      "\n"
     ],
     "output_type": "stream"
    }
   ],
   "source": [
    "catalogueconstructor.run_signalprocessor(duration=100)\n",
    "print(catalogueconstructor)"
   ]
  },
  {
   "cell_type": "code",
   "execution_count": 11,
   "outputs": [
    {
     "data": {
      "text/plain": "[<matplotlib.lines.Line2D at 0x23fb7b0dd88>]"
     },
     "metadata": {},
     "output_type": "execute_result",
     "execution_count": 11
    },
    {
     "data": {
      "text/plain": "<Figure size 432x288 with 1 Axes>",
      "image/png": "[encoded data removed]"
     },
     "metadata": {
      "needs_background": "light"
     },
     "output_type": "display_data"
    }
   ],
   "source": [
    "plt.plot(dataio.arrays['ch12'][0].get('processed_signals')[60000:100000, 0])"
   ],
   "metadata": {
    "collapsed": false,
    "pycharm": {
     "name": "#%%\n",
     "is_executing": false
    }
   }
  },
  {
   "cell_type": "markdown",
   "source": [
    "### Attempts to remove stimulus artifacts"
   ],
   "metadata": {
    "collapsed": false,
    "pycharm": {
     "name": "#%% md\n"
    }
   }
  },
  {
   "cell_type": "code",
   "execution_count": 14,
   "outputs": [],
   "source": [
    "artifact_data = dataio.datasource.array_sources[0][:, 20]"
   ],
   "metadata": {
    "collapsed": false,
    "pycharm": {
     "name": "#%%\n",
     "is_executing": false
    }
   }
  },
  {
   "cell_type": "code",
   "execution_count": 22,
   "outputs": [],
   "source": [
    "# Using Independent Component Analysis\n",
    "from sklearn.decomposition import FastICA\n",
    "ica = FastICA(2)\n",
    "filtered_data1 = ica.fit_transform(np.reshape(artifact_data, (-1, 10), 'F'))"
   ],
   "metadata": {
    "collapsed": false,
    "pycharm": {
     "name": "#%%\n",
     "is_executing": false
    }
   }
  },
  {
   "cell_type": "code",
   "execution_count": 41,
   "outputs": [],
   "source": [
    "# Using notch filter\n",
    "fs = 25000  # Sampling rate\n",
    "f0 = 1  # Frequency to be removed from signal (Hz)\n",
    "Q = 30  # Quality factor\n",
    "w0 = f0 / (fs / 2)  # Normalized Frequency\n",
    "b, a = iirnotch(f0, Q, fs)  # Design notch filter\n",
    "zi = lfilter_zi(b, a)\n",
    "filtered_data2, _ = lfilter(b, a, artifact_data, zi=zi*artifact_data[0])\n",
    "filtered_data3, _ = lfilter(b, a, filtered_data2, zi=zi*filtered_data2[0])\n",
    "filtered_data4 = filtfilt(b, a, artifact_data)"
   ],
   "metadata": {
    "collapsed": false,
    "pycharm": {
     "name": "#%%\n",
     "is_executing": false
    }
   }
  },
  {
   "cell_type": "code",
   "execution_count": 16,
   "outputs": [],
   "source": [
    "# Using brute force: Detect artifacts by thresholding, and set to zero.\n",
    "relative_threshold = 10\n",
    "diff_abs = np.abs(np.diff(artifact_data))\n",
    "diff_abs = np.insert(diff_abs, -1, 0)\n",
    "mad = np.median(np.abs(artifact_data - np.median(artifact_data)))\n",
    "mask_a = np.abs(artifact_data) > relative_threshold * mad\n",
    "mask_b = diff_abs > relative_threshold * mad"
   ],
   "metadata": {
    "collapsed": false,
    "pycharm": {
     "name": "#%%\n",
     "is_executing": false
    }
   }
  },
  {
   "cell_type": "code",
   "execution_count": 19,
   "outputs": [
    {
     "data": {
      "text/plain": "<matplotlib.collections.PathCollection at 0x23fba0c8ec8>"
     },
     "metadata": {},
     "output_type": "execute_result",
     "execution_count": 19
    },
    {
     "data": {
      "text/plain": "<Figure size 432x288 with 1 Axes>",
      "image/png": "[encoded data removed]"
     },
     "metadata": {
      "needs_background": "light"
     },
     "output_type": "display_data"
    }
   ],
   "source": [
    "idxs = slice(65200, 65600)\n",
    "plt.plot(artifact_data[idxs])\n",
    "plt.plot(diff_abs[idxs])\n",
    "x = np.flatnonzero(mask_b[idxs])\n",
    "plt.scatter(x, np.zeros_like(x))\n",
    "# plt.ylim(-0.0001, 0.0001)"
   ],
   "metadata": {
    "collapsed": false,
    "pycharm": {
     "name": "#%%\n",
     "is_executing": false
    }
   }
  },
  {
   "cell_type": "code",
   "execution_count": 144,
   "outputs": [
    {
     "data": {
      "text/plain": "[<matplotlib.lines.Line2D at 0x2acea16f208>]"
     },
     "metadata": {},
     "output_type": "execute_result",
     "execution_count": 144
    },
    {
     "data": {
      "text/plain": "<Figure size 432x288 with 1 Axes>",
      "image/png": "[encoded data removed]"
     },
     "metadata": {
      "needs_background": "light"
     },
     "output_type": "display_data"
    }
   ],
   "source": [
    "# plt.plot(artifact_data[idxs])\n",
    "clean_data_a = np.where(mask_a, 0, artifact_data)\n",
    "# plt.plot(clean_data_a[idxs])\n",
    "clean_data_b = np.where(mask_b, 0, artifact_data)\n",
    "# plt.plot(clean_data_b[idxs])\n",
    "clean_data_c = np.where(np.bitwise_or(mask_a, mask_b), 0, artifact_data)\n",
    "plt.plot(clean_data_c[idxs])\n",
    "# plt.ylim(-0.0001, 0.0001)"
   ],
   "metadata": {
    "collapsed": false,
    "pycharm": {
     "name": "#%%\n",
     "is_executing": false
    }
   }
  },
  {
   "cell_type": "code",
   "execution_count": 18,
   "outputs": [],
   "source": [
    "diff = np.diff(artifact_data)\n",
    "mad_diff = np.median(np.abs(diff - np.median(diff)))\n",
    "mask_diff = find_peaks(diff, 15 * mad_diff, distance=2500)\n",
    "# trigger_data = np.flatnonzero(mask_diff)"
   ],
   "metadata": {
    "collapsed": false,
    "pycharm": {
     "name": "#%%\n",
     "is_executing": false
    }
   }
  },
  {
   "cell_type": "markdown",
   "metadata": {},
   "source": [
    "## Extract a few waveforms"
   ]
  },
  {
   "cell_type": "code",
   "execution_count": 31,
   "metadata": {
    "pycharm": {
     "is_executing": false
    }
   },
   "outputs": [
    {
     "name": "stdout",
     "text": [
      "CatalogueConstructor\n  chan_grp 0 - ch47 ch48 ch46 ... ch58 ch57\n  nb_peak_by_segment: 131520\n  some_waveforms.shape: (9628, 125, 60)\n  cluster_labels [-11   0]\n",
      "\n"
     ],
     "output_type": "stream"
    }
   ],
   "source": [
    "catalogueconstructor.extract_some_waveforms(wf_left_ms=-2, wf_right_ms=3)\n",
    "print(catalogueconstructor)"
   ]
  },
  {
   "cell_type": "markdown",
   "metadata": {},
   "source": [
    "## Remove outlier spikes"
   ]
  },
  {
   "cell_type": "code",
   "execution_count": 32,
   "metadata": {
    "pycharm": {
     "is_executing": false
    }
   },
   "outputs": [
    {
     "name": "stdout",
     "text": [
      "CatalogueConstructor\n  chan_grp 0 - ch47 ch48 ch46 ... ch58 ch57\n  nb_peak_by_segment: 131520\n  some_waveforms.shape: (9628, 125, 60)\n  cluster_labels [-11   0]\n",
      "\n"
     ],
     "output_type": "stream"
    }
   ],
   "source": [
    "catalogueconstructor.clean_waveforms()\n",
    "print(catalogueconstructor)"
   ]
  },
  {
   "cell_type": "markdown",
   "metadata": {},
   "source": [
    "## Feature extraction"
   ]
  },
  {
   "cell_type": "code",
   "execution_count": 33,
   "metadata": {
    "pycharm": {
     "is_executing": false
    }
   },
   "outputs": [
    {
     "name": "stdout",
     "text": [
      "CatalogueConstructor\n  chan_grp 0 - ch47 ch48 ch46 ... ch58 ch57\n  nb_peak_by_segment: 131520\n  some_waveforms.shape: (9628, 125, 60)\n  some_features.shape: (9628, 240)\n  cluster_labels [-11   0]\n",
      "\n"
     ],
     "output_type": "stream"
    }
   ],
   "source": [
    "# catalogueconstructor.extract_some_features(method='pca_by_channel',\n",
    "#                                            n_components_by_channel=4)\n",
    "catalogueconstructor.extract_some_features(method='neighborhood_pca',\n",
    "                                           n_components_by_neighborhood=4,\n",
    "                                           radius_um=300)\n",
    "print(catalogueconstructor)"
   ]
  },
  {
   "cell_type": "markdown",
   "metadata": {},
   "source": [
    "## Clustering"
   ]
  },
  {
   "cell_type": "code",
   "execution_count": 34,
   "metadata": {
    "pycharm": {
     "is_executing": false
    }
   },
   "outputs": [
    {
     "name": "stdout",
     "text": [
      "CatalogueConstructor\n  chan_grp 0 - ch47 ch48 ch46 ... ch58 ch57\n  nb_peak_by_segment: 131520\n  some_waveforms.shape: (9628, 125, 60)\n  some_features.shape: (9628, 240)\n  cluster_labels [-11   0   1   2]\n",
      "\n"
     ],
     "output_type": "stream"
    }
   ],
   "source": [
    "catalogueconstructor.find_clusters(method='gmm', n_clusters=3)\n",
    "print(catalogueconstructor)"
   ]
  },
  {
   "cell_type": "markdown",
   "metadata": {},
   "source": [
    "## Visual check in CatalogueWindow"
   ]
  },
  {
   "cell_type": "code",
   "execution_count": 35,
   "metadata": {
    "pycharm": {
     "is_executing": false
    }
   },
   "outputs": [
    {
     "traceback": [
      "\u001b[1;31m---------------------------------------------------------------------------\u001b[0m",
      "\u001b[1;31mException\u001b[0m                                 Traceback (most recent call last)",
      "\u001b[1;32m~\\PycharmProjects\\tridesclous\\tridesclous\\gui\\waveformviewer.py\u001b[0m in \u001b[0;36mon_params_changed\u001b[1;34m(self, params, changes)\u001b[0m\n\u001b[0;32m     90\u001b[0m             \u001b[1;32mif\u001b[0m \u001b[0mparam\u001b[0m\u001b[1;33m.\u001b[0m\u001b[0mname\u001b[0m\u001b[1;33m(\u001b[0m\u001b[1;33m)\u001b[0m\u001b[1;33m==\u001b[0m\u001b[1;34m'flip_bottom_up'\u001b[0m\u001b[1;33m:\u001b[0m\u001b[1;33m\u001b[0m\u001b[1;33m\u001b[0m\u001b[0m\n\u001b[0;32m     91\u001b[0m                 \u001b[0mself\u001b[0m\u001b[1;33m.\u001b[0m\u001b[0minitialize_plot\u001b[0m\u001b[1;33m(\u001b[0m\u001b[1;33m)\u001b[0m\u001b[1;33m\u001b[0m\u001b[1;33m\u001b[0m\u001b[0m\n\u001b[1;32m---> 92\u001b[1;33m         \u001b[0mself\u001b[0m\u001b[1;33m.\u001b[0m\u001b[0mrefresh\u001b[0m\u001b[1;33m(\u001b[0m\u001b[1;33m)\u001b[0m\u001b[1;33m\u001b[0m\u001b[1;33m\u001b[0m\u001b[0m\n\u001b[0m\u001b[0;32m     93\u001b[0m \u001b[1;33m\u001b[0m\u001b[0m\n\u001b[0;32m     94\u001b[0m     \u001b[1;32mdef\u001b[0m \u001b[0minitialize_plot\u001b[0m\u001b[1;33m(\u001b[0m\u001b[0mself\u001b[0m\u001b[1;33m)\u001b[0m\u001b[1;33m:\u001b[0m\u001b[1;33m\u001b[0m\u001b[1;33m\u001b[0m\u001b[0m\n",
      "\u001b[1;32m~\\PycharmProjects\\tridesclous\\tridesclous\\gui\\waveformviewer.py\u001b[0m in \u001b[0;36mrefresh\u001b[1;34m(self)\u001b[0m\n\u001b[0;32m    211\u001b[0m \u001b[1;33m\u001b[0m\u001b[0m\n\u001b[0;32m    212\u001b[0m         \u001b[1;32mif\u001b[0m \u001b[0mself\u001b[0m\u001b[1;33m.\u001b[0m\u001b[0mmode\u001b[0m\u001b[1;33m==\u001b[0m\u001b[1;34m'flatten'\u001b[0m\u001b[1;33m:\u001b[0m\u001b[1;33m\u001b[0m\u001b[1;33m\u001b[0m\u001b[0m\n\u001b[1;32m--> 213\u001b[1;33m             \u001b[0mself\u001b[0m\u001b[1;33m.\u001b[0m\u001b[0mrefresh_mode_flatten\u001b[0m\u001b[1;33m(\u001b[0m\u001b[0mcluster_visible\u001b[0m\u001b[1;33m)\u001b[0m\u001b[1;33m\u001b[0m\u001b[1;33m\u001b[0m\u001b[0m\n\u001b[0m\u001b[0;32m    214\u001b[0m         \u001b[1;32melif\u001b[0m \u001b[0mself\u001b[0m\u001b[1;33m.\u001b[0m\u001b[0mmode\u001b[0m\u001b[1;33m==\u001b[0m\u001b[1;34m'geometry'\u001b[0m\u001b[1;33m:\u001b[0m\u001b[1;33m\u001b[0m\u001b[1;33m\u001b[0m\u001b[0m\n\u001b[0;32m    215\u001b[0m             \u001b[0mself\u001b[0m\u001b[1;33m.\u001b[0m\u001b[0mrefresh_mode_geometry\u001b[0m\u001b[1;33m(\u001b[0m\u001b[0mcluster_visible\u001b[0m\u001b[1;33m)\u001b[0m\u001b[1;33m\u001b[0m\u001b[1;33m\u001b[0m\u001b[0m\n",
      "\u001b[1;32m~\\PycharmProjects\\tridesclous\\tridesclous\\gui\\waveformviewer.py\u001b[0m in \u001b[0;36mrefresh_mode_flatten\u001b[1;34m(self, cluster_visible)\u001b[0m\n\u001b[0;32m    310\u001b[0m \u001b[1;33m\u001b[0m\u001b[0m\n\u001b[0;32m    311\u001b[0m             \u001b[1;32mif\u001b[0m \u001b[0mmad\u001b[0m \u001b[1;32mis\u001b[0m \u001b[1;32mnot\u001b[0m \u001b[1;32mNone\u001b[0m\u001b[1;33m:\u001b[0m\u001b[1;33m\u001b[0m\u001b[1;33m\u001b[0m\u001b[0m\n\u001b[1;32m--> 312\u001b[1;33m                 \u001b[0mcurve\u001b[0m \u001b[1;33m=\u001b[0m \u001b[0mpg\u001b[0m\u001b[1;33m.\u001b[0m\u001b[0mPlotCurveItem\u001b[0m\u001b[1;33m(\u001b[0m\u001b[0mxvect\u001b[0m\u001b[1;33m,\u001b[0m \u001b[0mmad\u001b[0m\u001b[1;33m,\u001b[0m \u001b[0mpen\u001b[0m\u001b[1;33m=\u001b[0m\u001b[0mcolor\u001b[0m\u001b[1;33m)\u001b[0m\u001b[1;33m\u001b[0m\u001b[1;33m\u001b[0m\u001b[0m\n\u001b[0m\u001b[0;32m    313\u001b[0m                 \u001b[0mself\u001b[0m\u001b[1;33m.\u001b[0m\u001b[0mplot2\u001b[0m\u001b[1;33m.\u001b[0m\u001b[0maddItem\u001b[0m\u001b[1;33m(\u001b[0m\u001b[0mcurve\u001b[0m\u001b[1;33m)\u001b[0m\u001b[1;33m\u001b[0m\u001b[1;33m\u001b[0m\u001b[0m\n\u001b[0;32m    314\u001b[0m \u001b[1;33m\u001b[0m\u001b[0m\n",
      "\u001b[1;32mc:\\users\\user\\anaconda3\\envs\\spike_sorting\\lib\\site-packages\\pyqtgraph\\graphicsItems\\PlotCurveItem.py\u001b[0m in \u001b[0;36m__init__\u001b[1;34m(self, *args, **kargs)\u001b[0m\n\u001b[0;32m     71\u001b[0m         }\n\u001b[0;32m     72\u001b[0m         \u001b[0mself\u001b[0m\u001b[1;33m.\u001b[0m\u001b[0msetClickable\u001b[0m\u001b[1;33m(\u001b[0m\u001b[0mkargs\u001b[0m\u001b[1;33m.\u001b[0m\u001b[0mget\u001b[0m\u001b[1;33m(\u001b[0m\u001b[1;34m'clickable'\u001b[0m\u001b[1;33m,\u001b[0m \u001b[1;32mFalse\u001b[0m\u001b[1;33m)\u001b[0m\u001b[1;33m)\u001b[0m\u001b[1;33m\u001b[0m\u001b[1;33m\u001b[0m\u001b[0m\n\u001b[1;32m---> 73\u001b[1;33m         \u001b[0mself\u001b[0m\u001b[1;33m.\u001b[0m\u001b[0msetData\u001b[0m\u001b[1;33m(\u001b[0m\u001b[1;33m*\u001b[0m\u001b[0margs\u001b[0m\u001b[1;33m,\u001b[0m \u001b[1;33m**\u001b[0m\u001b[0mkargs\u001b[0m\u001b[1;33m)\u001b[0m\u001b[1;33m\u001b[0m\u001b[1;33m\u001b[0m\u001b[0m\n\u001b[0m\u001b[0;32m     74\u001b[0m \u001b[1;33m\u001b[0m\u001b[0m\n\u001b[0;32m     75\u001b[0m     \u001b[1;32mdef\u001b[0m \u001b[0mimplements\u001b[0m\u001b[1;33m(\u001b[0m\u001b[0mself\u001b[0m\u001b[1;33m,\u001b[0m \u001b[0minterface\u001b[0m\u001b[1;33m=\u001b[0m\u001b[1;32mNone\u001b[0m\u001b[1;33m)\u001b[0m\u001b[1;33m:\u001b[0m\u001b[1;33m\u001b[0m\u001b[1;33m\u001b[0m\u001b[0m\n",
      "\u001b[1;32mc:\\users\\user\\anaconda3\\envs\\spike_sorting\\lib\\site-packages\\pyqtgraph\\graphicsItems\\PlotCurveItem.py\u001b[0m in \u001b[0;36msetData\u001b[1;34m(self, *args, **kargs)\u001b[0m\n\u001b[0;32m    305\u001b[0m \u001b[1;33m\u001b[0m\u001b[0m\n\u001b[0;32m    306\u001b[0m         \"\"\"\n\u001b[1;32m--> 307\u001b[1;33m         \u001b[0mself\u001b[0m\u001b[1;33m.\u001b[0m\u001b[0mupdateData\u001b[0m\u001b[1;33m(\u001b[0m\u001b[1;33m*\u001b[0m\u001b[0margs\u001b[0m\u001b[1;33m,\u001b[0m \u001b[1;33m**\u001b[0m\u001b[0mkargs\u001b[0m\u001b[1;33m)\u001b[0m\u001b[1;33m\u001b[0m\u001b[1;33m\u001b[0m\u001b[0m\n\u001b[0m\u001b[0;32m    308\u001b[0m \u001b[1;33m\u001b[0m\u001b[0m\n\u001b[0;32m    309\u001b[0m     \u001b[1;32mdef\u001b[0m \u001b[0mupdateData\u001b[0m\u001b[1;33m(\u001b[0m\u001b[0mself\u001b[0m\u001b[1;33m,\u001b[0m \u001b[1;33m*\u001b[0m\u001b[0margs\u001b[0m\u001b[1;33m,\u001b[0m \u001b[1;33m**\u001b[0m\u001b[0mkargs\u001b[0m\u001b[1;33m)\u001b[0m\u001b[1;33m:\u001b[0m\u001b[1;33m\u001b[0m\u001b[1;33m\u001b[0m\u001b[0m\n",
      "\u001b[1;32mc:\\users\\user\\anaconda3\\envs\\spike_sorting\\lib\\site-packages\\pyqtgraph\\graphicsItems\\PlotCurveItem.py\u001b[0m in \u001b[0;36mupdateData\u001b[1;34m(self, *args, **kargs)\u001b[0m\n\u001b[0;32m    327\u001b[0m                 \u001b[0mkargs\u001b[0m\u001b[1;33m[\u001b[0m\u001b[0mk\u001b[0m\u001b[1;33m]\u001b[0m \u001b[1;33m=\u001b[0m \u001b[0mdata\u001b[0m\u001b[1;33m\u001b[0m\u001b[1;33m\u001b[0m\u001b[0m\n\u001b[0;32m    328\u001b[0m             \u001b[1;32mif\u001b[0m \u001b[1;32mnot\u001b[0m \u001b[0misinstance\u001b[0m\u001b[1;33m(\u001b[0m\u001b[0mdata\u001b[0m\u001b[1;33m,\u001b[0m \u001b[0mnp\u001b[0m\u001b[1;33m.\u001b[0m\u001b[0mndarray\u001b[0m\u001b[1;33m)\u001b[0m \u001b[1;32mor\u001b[0m \u001b[0mdata\u001b[0m\u001b[1;33m.\u001b[0m\u001b[0mndim\u001b[0m \u001b[1;33m>\u001b[0m \u001b[1;36m1\u001b[0m\u001b[1;33m:\u001b[0m\u001b[1;33m\u001b[0m\u001b[1;33m\u001b[0m\u001b[0m\n\u001b[1;32m--> 329\u001b[1;33m                 \u001b[1;32mraise\u001b[0m \u001b[0mException\u001b[0m\u001b[1;33m(\u001b[0m\u001b[1;34m\"Plot data must be 1D ndarray.\"\u001b[0m\u001b[1;33m)\u001b[0m\u001b[1;33m\u001b[0m\u001b[1;33m\u001b[0m\u001b[0m\n\u001b[0m\u001b[0;32m    330\u001b[0m             \u001b[1;32mif\u001b[0m \u001b[1;34m'complex'\u001b[0m \u001b[1;32min\u001b[0m \u001b[0mstr\u001b[0m\u001b[1;33m(\u001b[0m\u001b[0mdata\u001b[0m\u001b[1;33m.\u001b[0m\u001b[0mdtype\u001b[0m\u001b[1;33m)\u001b[0m\u001b[1;33m:\u001b[0m\u001b[1;33m\u001b[0m\u001b[1;33m\u001b[0m\u001b[0m\n\u001b[0;32m    331\u001b[0m                 \u001b[1;32mraise\u001b[0m \u001b[0mException\u001b[0m\u001b[1;33m(\u001b[0m\u001b[1;34m\"Can not plot complex data types.\"\u001b[0m\u001b[1;33m)\u001b[0m\u001b[1;33m\u001b[0m\u001b[1;33m\u001b[0m\u001b[0m\n",
      "\u001b[1;31mException\u001b[0m: Plot data must be 1D ndarray."
     ],
     "ename": "Exception",
     "evalue": "Plot data must be 1D ndarray.",
     "output_type": "error"
    },
    {
     "data": {
      "text/plain": "0"
     },
     "metadata": {},
     "output_type": "execute_result",
     "execution_count": 35
    }
   ],
   "source": [
    "%gui qt5\n",
    "import pyqtgraph as pg\n",
    "app = pg.mkQApp()\n",
    "win = tdc.CatalogueWindow(catalogueconstructor)\n",
    "win.show()\n",
    "app.exec_()    "
   ]
  },
  {
   "cell_type": "markdown",
   "metadata": {},
   "source": [
    "## Peeler"
   ]
  },
  {
   "cell_type": "code",
   "execution_count": null,
   "metadata": {
    "pycharm": {
     "is_executing": true
    }
   },
   "outputs": [],
   "source": [
    "catalogueconstructor.make_catalogue_for_peeler()\n",
    "initial_catalogue = dataio.load_catalogue()\n",
    "\n",
    "peeler = tdc.Peeler(dataio)\n",
    "peeler.change_params(initial_catalogue)\n",
    "\n",
    "peeler.run()\n",
    "\n",
    "print(\"Number of spikes: {}\".format(dataio.get_spikes(0).size))"
   ]
  },
  {
   "cell_type": "markdown",
   "metadata": {},
   "source": [
    "## Visual check in PeelerWindow"
   ]
  },
  {
   "cell_type": "code",
   "execution_count": null,
   "metadata": {
    "pycharm": {
     "name": "#%%\n",
     "is_executing": true
    }
   },
   "outputs": [],
   "source": [
    "%gui qt5\n",
    "import pyqtgraph as pg\n",
    "app = pg.mkQApp()\n",
    "win = tdc.PeelerWindow(dataio=dataio, catalogue=initial_catalogue)\n",
    "win.show()\n",
    "app.exec_()"
   ]
  },
  {
   "cell_type": "code",
   "execution_count": null,
   "outputs": [],
   "source": [
    "\n"
   ],
   "metadata": {
    "collapsed": false,
    "pycharm": {
     "name": "#%%\n",
     "is_executing": true
    }
   }
  }
 ],
 "metadata": {
  "kernelspec": {
   "display_name": "Python 3",
   "language": "python",
   "name": "python3"
  },
  "language_info": {
   "codemirror_mode": {
    "name": "ipython",
    "version": 3
   },
   "file_extension": ".py",
   "mimetype": "text/x-python",
   "name": "python",
   "nbconvert_exporter": "python",
   "pygments_lexer": "ipython3",
   "version": "3.6.6"
  },
  "pycharm": {
   "stem_cell": {
    "cell_type": "raw",
    "source": [],
    "metadata": {
     "collapsed": false
    }
   }
  }
 },
 "nbformat": 4,
 "nbformat_minor": 1
}