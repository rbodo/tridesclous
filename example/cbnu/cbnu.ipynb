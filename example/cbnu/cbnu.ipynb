{
 "cells": [
  {
   "cell_type": "code",
   "execution_count": 1,
   "metadata": {
    "pycharm": {
     "is_executing": false
    }
   },
   "outputs": [],
   "source": [
    "%matplotlib inline\n",
    "\n",
    "import os\n",
    "import shutil\n",
    "import matplotlib.pyplot as plt\n",
    "import tridesclous as tdc"
   ]
  },
  {
   "cell_type": "markdown",
   "metadata": {},
   "source": [
    "## DataIO"
   ]
  },
  {
   "cell_type": "code",
   "execution_count": 2,
   "metadata": {
    "pycharm": {
     "is_executing": false
    }
   },
   "outputs": [
    {
     "name": "stdout",
     "text": [
      "Converting file from .mcd to .h5: C:\\Users\\user\\Documents\\Bodo_Rueckauer\\Data\\raw\\Spont\\Spont.mcd",
      "\n",
      "Done.",
      "\n",
      "Loading .h5 file: C:\\Users\\user\\Documents\\Bodo_Rueckauer\\Data\\raw\\Spont\\Spont.h5",
      "\n",
      "Recording_0",
      " ",
      "<HDF5 group \"/Data/Recording_0\" (1 members)>",
      "\n",
      "Stream_0",
      " ",
      "<HDF5 group \"/Data/Recording_0/AnalogStream/Stream_0\" (3 members)>",
      "\n",
      "ChannelData",
      " ",
      "<HDF5 dataset \"ChannelData\": shape (60, 5915000), type \"<i4\">",
      "\n",
      "ChannelDataTimeStamps",
      " ",
      "<HDF5 dataset \"ChannelDataTimeStamps\": shape (1, 3), type \"<i8\">",
      "\n",
      "InfoChannel",
      " ",
      "<HDF5 dataset \"InfoChannel\": shape (60,), type \"|V108\">",
      "\n",
      "Stream_1",
      " ",
      "<HDF5 group \"/Data/Recording_0/AnalogStream/Stream_1\" (3 members)>",
      "\n",
      "ChannelData",
      " ",
      "<HDF5 dataset \"ChannelData\": shape (3, 5915000), type \"<i4\">",
      "\n",
      "ChannelDataTimeStamps",
      " ",
      "<HDF5 dataset \"ChannelDataTimeStamps\": shape (1, 3), type \"<i8\">",
      "\n",
      "InfoChannel",
      " ",
      "<HDF5 dataset \"InfoChannel\": shape (3,), type \"|V108\">",
      "\n",
      "\r  1.67%",
      "\r  3.33%",
      "\r  5.00%",
      "\r  6.67%",
      "\r  8.33%",
      "\r 10.00%",
      "\r 11.67%",
      "\r 13.33%",
      "\r 15.00%",
      "\r 16.67%",
      "\r 18.33%",
      "\r 20.00%",
      "\r 21.67%",
      "\r 23.33%",
      "\r 25.00%",
      "\r 26.67%",
      "\r 28.33%",
      "\r 30.00%",
      "\r 31.67%",
      "\r 33.33%",
      "\r 35.00%",
      "\r 36.67%",
      "\r 38.33%",
      "\r 40.00%",
      "\r 41.67%",
      "\r 43.33%",
      "\r 45.00%",
      "\r 46.67%",
      "\r 48.33%",
      "\r 50.00%",
      "\r 51.67%",
      "\r 53.33%",
      "\r 55.00%",
      "\r 56.67%",
      "\r 58.33%",
      "\r 60.00%",
      "\r 61.67%",
      "\r 63.33%",
      "\r 65.00%",
      "\r 66.67%",
      "\r 68.33%",
      "\r 70.00%",
      "\r 71.67%",
      "\r 73.33%",
      "\r 75.00%",
      "\r 76.67%",
      "\r 78.33%",
      "\r 80.00%",
      "\r 81.67%",
      "\r 83.33%",
      "\r 85.00%",
      "\r 86.67%",
      "\r 88.33%",
      "\r 90.00%",
      "\r 91.67%",
      "\r 93.33%",
      "\r 95.00%",
      "\r 96.67%",
      "\r 98.33%",
      "\r100.00%",
      "\n",
      "Done.",
      "\n",
      "Finished initializing DataSource.",
      "\n",
      "DataIO <id: 1505681821448> \n  workdir: C:\\Users\\user\\Documents\\Bodo_Rueckauer\\Data\\raw\\Spont\\Spont_tdc\n  sample_rate: 25000\n  total_channel: 60\n  channel_groups: 0 [ch47 ch48 ch46 ch45 ... ch55 ch56 ch58 ch57]\n  nb_segment: 1\n  length: 5915000\n  durations: 236.6 s.",
      "\n"
     ],
     "output_type": "stream"
    }
   ],
   "source": [
    "path_wd = 'C:\\\\Users\\\\user\\\\Documents\\\\Bodo_Rueckauer\\\\Data\\\\raw\\\\Spont'\n",
    "path_out = os.path.join(path_wd, 'Spont_tdc')\n",
    "\n",
    "if os.path.exists(path_out):\n",
    "    shutil.rmtree(path_out)   \n",
    "\n",
    "dataio = tdc.DataIO(path_out)\n",
    "\n",
    "path_data = os.path.join(path_wd, 'Spont.mcd')\n",
    "dataio.set_data_source(type='mcd', filenames=[path_data])\n",
    "print(dataio)"
   ]
  },
  {
   "cell_type": "code",
   "execution_count": 25,
   "outputs": [],
   "source": [
    "path_probe = os.path.join(path_out, 'Spont.prb')\n",
    "\n",
    "probe_string = ('''\\\n",
    "n_electrodes = 60\n",
    "channel_groups = {0: {'channels': list(range(n_electrodes)), \n",
    "                      'geometry': {k: [0, k * 200] for k in range(n_electrodes)}}}\n",
    "''')\n",
    "\n",
    "with open(path_probe, 'w') as f:\n",
    "    f.write(probe_string)\n",
    "    \n",
    "dataio.set_probe_file(path_probe)"
   ],
   "metadata": {
    "collapsed": false,
    "pycharm": {
     "name": "#%%\n",
     "is_executing": false
    }
   }
  },
  {
   "cell_type": "markdown",
   "metadata": {},
   "source": [
    "## CatalogueConstructor"
   ]
  },
  {
   "cell_type": "code",
   "execution_count": 26,
   "metadata": {
    "pycharm": {
     "is_executing": false
    }
   },
   "outputs": [
    {
     "name": "stdout",
     "text": [
      "CatalogueConstructor\n  chan_grp 0 - ch47 ch48 ch46 ... ch58 ch57\n  Signal pre-processing not done yet",
      "\n"
     ],
     "output_type": "stream"
    }
   ],
   "source": [
    "catalogueconstructor = tdc.CatalogueConstructor(dataio)\n",
    "print(catalogueconstructor)"
   ]
  },
  {
   "cell_type": "code",
   "execution_count": 27,
   "metadata": {
    "pycharm": {
     "is_executing": false
    }
   },
   "outputs": [],
   "source": [
    "catalogueconstructor.set_preprocessor_params(highpass_freq=100, \n",
    "                                             lowpass_freq=5000, \n",
    "                                             relative_threshold=4)"
   ]
  },
  {
   "cell_type": "markdown",
   "metadata": {},
   "source": [
    "## Median and MAD per channel"
   ]
  },
  {
   "cell_type": "code",
   "execution_count": 28,
   "metadata": {
    "pycharm": {
     "is_executing": false
    }
   },
   "outputs": [
    {
     "name": "stdout",
     "text": [
      "[ 4.7660674e-08  1.1907502e-07  1.5079175e-07  2.5945292e-08\n  4.9975290e-07  1.5903963e-07  3.4921700e-07  3.2884395e-07\n  2.7995549e-07  4.4636419e-09  2.4753791e-07  2.5746456e-07\n  1.2902154e-07 -1.3814805e-09  4.8641748e-09  9.6480353e-09\n  4.3113482e-07  8.0723481e-08  3.5107252e-07  3.3025356e-07\n  3.2452851e-07  5.5401784e-07  5.3569977e-07  3.3666374e-09\n -7.1834645e-09  6.2195323e-07  3.0115648e-09  9.4256896e-09\n -9.0939452e-09  6.2503648e-07  5.2409507e-07  4.9599726e-07\n  7.9111985e-08 -2.3748488e-09  7.4823487e-07  9.2376757e-07\n  7.3393085e-07  3.3761671e-07  7.4298993e-07  9.5925009e-07\n  6.0988918e-07  7.0368179e-07  2.3224059e-07  4.4518322e-07\n  1.5334321e-07  6.2176582e-07  4.5431733e-07  4.5686710e-07\n  2.7689595e-07  4.2132118e-07  1.4928102e-07  1.5475359e-07\n  3.7704012e-07  2.9662650e-09  3.2023493e-07  2.9816698e-07\n  1.6317456e-08  3.2922607e-08  7.5519914e-08  3.7081767e-07]",
      "\n",
      "[4.2190472e-06 4.3413929e-06 4.5269267e-06 7.8799576e-06 5.2970699e-06\n 4.5105421e-06 5.7969719e-06 6.2212034e-06 5.6239619e-06 1.1615384e-06\n 5.1957145e-06 5.5726391e-06 4.6771802e-06 4.9652058e-06 1.1716887e-06\n 9.5457935e-06 5.0285853e-06 7.8122885e-06 4.7891140e-06 3.6609324e-06\n 5.1508264e-06 6.3427519e-06 6.4559777e-06 1.1791906e-06 4.7307567e-06\n 6.7159513e-06 1.1736836e-06 6.6034431e-06 4.0423620e-06 6.9253056e-06\n 6.3636885e-06 6.5285690e-06 3.7712994e-06 7.9203692e-06 6.7043629e-06\n 7.4598024e-06 7.1390946e-06 5.9736471e-06 7.2544258e-06 7.2933117e-06\n 6.9319913e-06 4.0671916e-06 5.6640311e-06 6.0640705e-06 3.2180517e-06\n 6.1843994e-06 5.6328245e-06 5.5268010e-06 5.3191984e-06 5.7973066e-06\n 4.1569760e-06 5.1757775e-06 5.9954386e-06 1.1590477e-06 5.1804495e-06\n 4.9285723e-06 7.7563400e-06 4.1653302e-06 4.3274867e-06 5.2121268e-06]",
      "\n"
     ],
     "output_type": "stream"
    }
   ],
   "source": [
    "catalogueconstructor.estimate_signals_noise()\n",
    "print(catalogueconstructor.signals_medians)\n",
    "print(catalogueconstructor.signals_mads)"
   ]
  },
  {
   "cell_type": "markdown",
   "metadata": {},
   "source": [
    "## Signal preprocessing and peak detection"
   ]
  },
  {
   "cell_type": "code",
   "execution_count": 29,
   "metadata": {
    "pycharm": {
     "is_executing": false
    }
   },
   "outputs": [
    {
     "name": "stdout",
     "text": [
      "CatalogueConstructor\n  chan_grp 0 - ch47 ch48 ch46 ... ch58 ch57\n  nb_peak_by_segment: 131520\n  cluster_labels [-11]\n",
      "\n"
     ],
     "output_type": "stream"
    }
   ],
   "source": [
    "catalogueconstructor.run_signalprocessor(duration=100)\n",
    "print(catalogueconstructor)"
   ]
  },
  {
   "cell_type": "code",
   "execution_count": 30,
   "outputs": [
    {
     "data": {
      "text/plain": "[<matplotlib.lines.Line2D at 0x15ee694e108>]"
     },
     "metadata": {},
     "output_type": "execute_result",
     "execution_count": 30
    },
    {
     "data": {
      "text/plain": "<Figure size 432x288 with 1 Axes>",
      "image/png": "[encoded data removed]"
     },
     "metadata": {
      "needs_background": "light"
     },
     "output_type": "display_data"
    }
   ],
   "source": [
    "plt.plot(dataio.arrays[0][0].get('processed_signals')[:1000, 0])"
   ],
   "metadata": {
    "collapsed": false,
    "pycharm": {
     "name": "#%%\n",
     "is_executing": false
    }
   }
  },
  {
   "cell_type": "markdown",
   "metadata": {},
   "source": [
    "## Extract a few waveforms"
   ]
  },
  {
   "cell_type": "code",
   "execution_count": 31,
   "metadata": {
    "pycharm": {
     "is_executing": false
    }
   },
   "outputs": [
    {
     "name": "stdout",
     "text": [
      "CatalogueConstructor\n  chan_grp 0 - ch47 ch48 ch46 ... ch58 ch57\n  nb_peak_by_segment: 131520\n  some_waveforms.shape: (9628, 125, 60)\n  cluster_labels [-11   0]\n",
      "\n"
     ],
     "output_type": "stream"
    }
   ],
   "source": [
    "catalogueconstructor.extract_some_waveforms(wf_left_ms=-2, wf_right_ms=3)\n",
    "print(catalogueconstructor)"
   ]
  },
  {
   "cell_type": "markdown",
   "metadata": {},
   "source": [
    "## Remove outlier spikes"
   ]
  },
  {
   "cell_type": "code",
   "execution_count": 32,
   "metadata": {
    "pycharm": {
     "is_executing": false
    }
   },
   "outputs": [
    {
     "name": "stdout",
     "text": [
      "CatalogueConstructor\n  chan_grp 0 - ch47 ch48 ch46 ... ch58 ch57\n  nb_peak_by_segment: 131520\n  some_waveforms.shape: (9628, 125, 60)\n  cluster_labels [-11   0]\n",
      "\n"
     ],
     "output_type": "stream"
    }
   ],
   "source": [
    "catalogueconstructor.clean_waveforms()\n",
    "print(catalogueconstructor)"
   ]
  },
  {
   "cell_type": "markdown",
   "metadata": {},
   "source": [
    "## Feature extraction"
   ]
  },
  {
   "cell_type": "code",
   "execution_count": 33,
   "metadata": {
    "pycharm": {
     "is_executing": false
    }
   },
   "outputs": [
    {
     "name": "stdout",
     "text": [
      "CatalogueConstructor\n  chan_grp 0 - ch47 ch48 ch46 ... ch58 ch57\n  nb_peak_by_segment: 131520\n  some_waveforms.shape: (9628, 125, 60)\n  some_features.shape: (9628, 240)\n  cluster_labels [-11   0]\n",
      "\n"
     ],
     "output_type": "stream"
    }
   ],
   "source": [
    "# catalogueconstructor.extract_some_features(method='pca_by_channel',\n",
    "#                                            n_components_by_channel=4)\n",
    "catalogueconstructor.extract_some_features(method='neighborhood_pca',\n",
    "                                           n_components_by_neighborhood=4,\n",
    "                                           radius_um=300)\n",
    "print(catalogueconstructor)"
   ]
  },
  {
   "cell_type": "markdown",
   "metadata": {},
   "source": [
    "## Clustering"
   ]
  },
  {
   "cell_type": "code",
   "execution_count": 34,
   "metadata": {
    "pycharm": {
     "is_executing": false
    }
   },
   "outputs": [
    {
     "name": "stdout",
     "text": [
      "CatalogueConstructor\n  chan_grp 0 - ch47 ch48 ch46 ... ch58 ch57\n  nb_peak_by_segment: 131520\n  some_waveforms.shape: (9628, 125, 60)\n  some_features.shape: (9628, 240)\n  cluster_labels [-11   0   1   2]\n",
      "\n"
     ],
     "output_type": "stream"
    }
   ],
   "source": [
    "catalogueconstructor.find_clusters(method='gmm', n_clusters=3)\n",
    "print(catalogueconstructor)"
   ]
  },
  {
   "cell_type": "markdown",
   "metadata": {},
   "source": [
    "## Visual check in CatalogueWindow"
   ]
  },
  {
   "cell_type": "code",
   "execution_count": 35,
   "metadata": {
    "pycharm": {
     "is_executing": false
    }
   },
   "outputs": [
    {
     "traceback": [
      "\u001b[1;31m---------------------------------------------------------------------------\u001b[0m",
      "\u001b[1;31mException\u001b[0m                                 Traceback (most recent call last)",
      "\u001b[1;32m~\\PycharmProjects\\tridesclous\\tridesclous\\gui\\waveformviewer.py\u001b[0m in \u001b[0;36mon_params_changed\u001b[1;34m(self, params, changes)\u001b[0m\n\u001b[0;32m     90\u001b[0m             \u001b[1;32mif\u001b[0m \u001b[0mparam\u001b[0m\u001b[1;33m.\u001b[0m\u001b[0mname\u001b[0m\u001b[1;33m(\u001b[0m\u001b[1;33m)\u001b[0m\u001b[1;33m==\u001b[0m\u001b[1;34m'flip_bottom_up'\u001b[0m\u001b[1;33m:\u001b[0m\u001b[1;33m\u001b[0m\u001b[1;33m\u001b[0m\u001b[0m\n\u001b[0;32m     91\u001b[0m                 \u001b[0mself\u001b[0m\u001b[1;33m.\u001b[0m\u001b[0minitialize_plot\u001b[0m\u001b[1;33m(\u001b[0m\u001b[1;33m)\u001b[0m\u001b[1;33m\u001b[0m\u001b[1;33m\u001b[0m\u001b[0m\n\u001b[1;32m---> 92\u001b[1;33m         \u001b[0mself\u001b[0m\u001b[1;33m.\u001b[0m\u001b[0mrefresh\u001b[0m\u001b[1;33m(\u001b[0m\u001b[1;33m)\u001b[0m\u001b[1;33m\u001b[0m\u001b[1;33m\u001b[0m\u001b[0m\n\u001b[0m\u001b[0;32m     93\u001b[0m \u001b[1;33m\u001b[0m\u001b[0m\n\u001b[0;32m     94\u001b[0m     \u001b[1;32mdef\u001b[0m \u001b[0minitialize_plot\u001b[0m\u001b[1;33m(\u001b[0m\u001b[0mself\u001b[0m\u001b[1;33m)\u001b[0m\u001b[1;33m:\u001b[0m\u001b[1;33m\u001b[0m\u001b[1;33m\u001b[0m\u001b[0m\n",
      "\u001b[1;32m~\\PycharmProjects\\tridesclous\\tridesclous\\gui\\waveformviewer.py\u001b[0m in \u001b[0;36mrefresh\u001b[1;34m(self)\u001b[0m\n\u001b[0;32m    211\u001b[0m \u001b[1;33m\u001b[0m\u001b[0m\n\u001b[0;32m    212\u001b[0m         \u001b[1;32mif\u001b[0m \u001b[0mself\u001b[0m\u001b[1;33m.\u001b[0m\u001b[0mmode\u001b[0m\u001b[1;33m==\u001b[0m\u001b[1;34m'flatten'\u001b[0m\u001b[1;33m:\u001b[0m\u001b[1;33m\u001b[0m\u001b[1;33m\u001b[0m\u001b[0m\n\u001b[1;32m--> 213\u001b[1;33m             \u001b[0mself\u001b[0m\u001b[1;33m.\u001b[0m\u001b[0mrefresh_mode_flatten\u001b[0m\u001b[1;33m(\u001b[0m\u001b[0mcluster_visible\u001b[0m\u001b[1;33m)\u001b[0m\u001b[1;33m\u001b[0m\u001b[1;33m\u001b[0m\u001b[0m\n\u001b[0m\u001b[0;32m    214\u001b[0m         \u001b[1;32melif\u001b[0m \u001b[0mself\u001b[0m\u001b[1;33m.\u001b[0m\u001b[0mmode\u001b[0m\u001b[1;33m==\u001b[0m\u001b[1;34m'geometry'\u001b[0m\u001b[1;33m:\u001b[0m\u001b[1;33m\u001b[0m\u001b[1;33m\u001b[0m\u001b[0m\n\u001b[0;32m    215\u001b[0m             \u001b[0mself\u001b[0m\u001b[1;33m.\u001b[0m\u001b[0mrefresh_mode_geometry\u001b[0m\u001b[1;33m(\u001b[0m\u001b[0mcluster_visible\u001b[0m\u001b[1;33m)\u001b[0m\u001b[1;33m\u001b[0m\u001b[1;33m\u001b[0m\u001b[0m\n",
      "\u001b[1;32m~\\PycharmProjects\\tridesclous\\tridesclous\\gui\\waveformviewer.py\u001b[0m in \u001b[0;36mrefresh_mode_flatten\u001b[1;34m(self, cluster_visible)\u001b[0m\n\u001b[0;32m    310\u001b[0m \u001b[1;33m\u001b[0m\u001b[0m\n\u001b[0;32m    311\u001b[0m             \u001b[1;32mif\u001b[0m \u001b[0mmad\u001b[0m \u001b[1;32mis\u001b[0m \u001b[1;32mnot\u001b[0m \u001b[1;32mNone\u001b[0m\u001b[1;33m:\u001b[0m\u001b[1;33m\u001b[0m\u001b[1;33m\u001b[0m\u001b[0m\n\u001b[1;32m--> 312\u001b[1;33m                 \u001b[0mcurve\u001b[0m \u001b[1;33m=\u001b[0m \u001b[0mpg\u001b[0m\u001b[1;33m.\u001b[0m\u001b[0mPlotCurveItem\u001b[0m\u001b[1;33m(\u001b[0m\u001b[0mxvect\u001b[0m\u001b[1;33m,\u001b[0m \u001b[0mmad\u001b[0m\u001b[1;33m,\u001b[0m \u001b[0mpen\u001b[0m\u001b[1;33m=\u001b[0m\u001b[0mcolor\u001b[0m\u001b[1;33m)\u001b[0m\u001b[1;33m\u001b[0m\u001b[1;33m\u001b[0m\u001b[0m\n\u001b[0m\u001b[0;32m    313\u001b[0m                 \u001b[0mself\u001b[0m\u001b[1;33m.\u001b[0m\u001b[0mplot2\u001b[0m\u001b[1;33m.\u001b[0m\u001b[0maddItem\u001b[0m\u001b[1;33m(\u001b[0m\u001b[0mcurve\u001b[0m\u001b[1;33m)\u001b[0m\u001b[1;33m\u001b[0m\u001b[1;33m\u001b[0m\u001b[0m\n\u001b[0;32m    314\u001b[0m \u001b[1;33m\u001b[0m\u001b[0m\n",
      "\u001b[1;32mc:\\users\\user\\anaconda3\\envs\\spike_sorting\\lib\\site-packages\\pyqtgraph\\graphicsItems\\PlotCurveItem.py\u001b[0m in \u001b[0;36m__init__\u001b[1;34m(self, *args, **kargs)\u001b[0m\n\u001b[0;32m     71\u001b[0m         }\n\u001b[0;32m     72\u001b[0m         \u001b[0mself\u001b[0m\u001b[1;33m.\u001b[0m\u001b[0msetClickable\u001b[0m\u001b[1;33m(\u001b[0m\u001b[0mkargs\u001b[0m\u001b[1;33m.\u001b[0m\u001b[0mget\u001b[0m\u001b[1;33m(\u001b[0m\u001b[1;34m'clickable'\u001b[0m\u001b[1;33m,\u001b[0m \u001b[1;32mFalse\u001b[0m\u001b[1;33m)\u001b[0m\u001b[1;33m)\u001b[0m\u001b[1;33m\u001b[0m\u001b[1;33m\u001b[0m\u001b[0m\n\u001b[1;32m---> 73\u001b[1;33m         \u001b[0mself\u001b[0m\u001b[1;33m.\u001b[0m\u001b[0msetData\u001b[0m\u001b[1;33m(\u001b[0m\u001b[1;33m*\u001b[0m\u001b[0margs\u001b[0m\u001b[1;33m,\u001b[0m \u001b[1;33m**\u001b[0m\u001b[0mkargs\u001b[0m\u001b[1;33m)\u001b[0m\u001b[1;33m\u001b[0m\u001b[1;33m\u001b[0m\u001b[0m\n\u001b[0m\u001b[0;32m     74\u001b[0m \u001b[1;33m\u001b[0m\u001b[0m\n\u001b[0;32m     75\u001b[0m     \u001b[1;32mdef\u001b[0m \u001b[0mimplements\u001b[0m\u001b[1;33m(\u001b[0m\u001b[0mself\u001b[0m\u001b[1;33m,\u001b[0m \u001b[0minterface\u001b[0m\u001b[1;33m=\u001b[0m\u001b[1;32mNone\u001b[0m\u001b[1;33m)\u001b[0m\u001b[1;33m:\u001b[0m\u001b[1;33m\u001b[0m\u001b[1;33m\u001b[0m\u001b[0m\n",
      "\u001b[1;32mc:\\users\\user\\anaconda3\\envs\\spike_sorting\\lib\\site-packages\\pyqtgraph\\graphicsItems\\PlotCurveItem.py\u001b[0m in \u001b[0;36msetData\u001b[1;34m(self, *args, **kargs)\u001b[0m\n\u001b[0;32m    305\u001b[0m \u001b[1;33m\u001b[0m\u001b[0m\n\u001b[0;32m    306\u001b[0m         \"\"\"\n\u001b[1;32m--> 307\u001b[1;33m         \u001b[0mself\u001b[0m\u001b[1;33m.\u001b[0m\u001b[0mupdateData\u001b[0m\u001b[1;33m(\u001b[0m\u001b[1;33m*\u001b[0m\u001b[0margs\u001b[0m\u001b[1;33m,\u001b[0m \u001b[1;33m**\u001b[0m\u001b[0mkargs\u001b[0m\u001b[1;33m)\u001b[0m\u001b[1;33m\u001b[0m\u001b[1;33m\u001b[0m\u001b[0m\n\u001b[0m\u001b[0;32m    308\u001b[0m \u001b[1;33m\u001b[0m\u001b[0m\n\u001b[0;32m    309\u001b[0m     \u001b[1;32mdef\u001b[0m \u001b[0mupdateData\u001b[0m\u001b[1;33m(\u001b[0m\u001b[0mself\u001b[0m\u001b[1;33m,\u001b[0m \u001b[1;33m*\u001b[0m\u001b[0margs\u001b[0m\u001b[1;33m,\u001b[0m \u001b[1;33m**\u001b[0m\u001b[0mkargs\u001b[0m\u001b[1;33m)\u001b[0m\u001b[1;33m:\u001b[0m\u001b[1;33m\u001b[0m\u001b[1;33m\u001b[0m\u001b[0m\n",
      "\u001b[1;32mc:\\users\\user\\anaconda3\\envs\\spike_sorting\\lib\\site-packages\\pyqtgraph\\graphicsItems\\PlotCurveItem.py\u001b[0m in \u001b[0;36mupdateData\u001b[1;34m(self, *args, **kargs)\u001b[0m\n\u001b[0;32m    327\u001b[0m                 \u001b[0mkargs\u001b[0m\u001b[1;33m[\u001b[0m\u001b[0mk\u001b[0m\u001b[1;33m]\u001b[0m \u001b[1;33m=\u001b[0m \u001b[0mdata\u001b[0m\u001b[1;33m\u001b[0m\u001b[1;33m\u001b[0m\u001b[0m\n\u001b[0;32m    328\u001b[0m             \u001b[1;32mif\u001b[0m \u001b[1;32mnot\u001b[0m \u001b[0misinstance\u001b[0m\u001b[1;33m(\u001b[0m\u001b[0mdata\u001b[0m\u001b[1;33m,\u001b[0m \u001b[0mnp\u001b[0m\u001b[1;33m.\u001b[0m\u001b[0mndarray\u001b[0m\u001b[1;33m)\u001b[0m \u001b[1;32mor\u001b[0m \u001b[0mdata\u001b[0m\u001b[1;33m.\u001b[0m\u001b[0mndim\u001b[0m \u001b[1;33m>\u001b[0m \u001b[1;36m1\u001b[0m\u001b[1;33m:\u001b[0m\u001b[1;33m\u001b[0m\u001b[1;33m\u001b[0m\u001b[0m\n\u001b[1;32m--> 329\u001b[1;33m                 \u001b[1;32mraise\u001b[0m \u001b[0mException\u001b[0m\u001b[1;33m(\u001b[0m\u001b[1;34m\"Plot data must be 1D ndarray.\"\u001b[0m\u001b[1;33m)\u001b[0m\u001b[1;33m\u001b[0m\u001b[1;33m\u001b[0m\u001b[0m\n\u001b[0m\u001b[0;32m    330\u001b[0m             \u001b[1;32mif\u001b[0m \u001b[1;34m'complex'\u001b[0m \u001b[1;32min\u001b[0m \u001b[0mstr\u001b[0m\u001b[1;33m(\u001b[0m\u001b[0mdata\u001b[0m\u001b[1;33m.\u001b[0m\u001b[0mdtype\u001b[0m\u001b[1;33m)\u001b[0m\u001b[1;33m:\u001b[0m\u001b[1;33m\u001b[0m\u001b[1;33m\u001b[0m\u001b[0m\n\u001b[0;32m    331\u001b[0m                 \u001b[1;32mraise\u001b[0m \u001b[0mException\u001b[0m\u001b[1;33m(\u001b[0m\u001b[1;34m\"Can not plot complex data types.\"\u001b[0m\u001b[1;33m)\u001b[0m\u001b[1;33m\u001b[0m\u001b[1;33m\u001b[0m\u001b[0m\n",
      "\u001b[1;31mException\u001b[0m: Plot data must be 1D ndarray."
     ],
     "ename": "Exception",
     "evalue": "Plot data must be 1D ndarray.",
     "output_type": "error"
    },
    {
     "data": {
      "text/plain": "0"
     },
     "metadata": {},
     "output_type": "execute_result",
     "execution_count": 35
    }
   ],
   "source": [
    "%gui qt5\n",
    "import pyqtgraph as pg\n",
    "app = pg.mkQApp()\n",
    "win = tdc.CatalogueWindow(catalogueconstructor)\n",
    "win.show()\n",
    "app.exec_()    "
   ]
  },
  {
   "cell_type": "markdown",
   "metadata": {},
   "source": [
    "## Peeler"
   ]
  },
  {
   "cell_type": "code",
   "execution_count": null,
   "metadata": {
    "pycharm": {
     "is_executing": true
    }
   },
   "outputs": [],
   "source": [
    "catalogueconstructor.make_catalogue_for_peeler()\n",
    "initial_catalogue = dataio.load_catalogue()\n",
    "\n",
    "peeler = tdc.Peeler(dataio)\n",
    "peeler.change_params(initial_catalogue)\n",
    "\n",
    "peeler.run()\n",
    "\n",
    "print(\"Number of spikes: {}\".format(dataio.get_spikes(0).size))"
   ]
  },
  {
   "cell_type": "markdown",
   "metadata": {},
   "source": [
    "## Visual check in PeelerWindow"
   ]
  },
  {
   "cell_type": "code",
   "execution_count": null,
   "metadata": {
    "pycharm": {
     "name": "#%%\n",
     "is_executing": true
    }
   },
   "outputs": [],
   "source": [
    "%gui qt5\n",
    "import pyqtgraph as pg\n",
    "app = pg.mkQApp()\n",
    "win = tdc.PeelerWindow(dataio=dataio, catalogue=initial_catalogue)\n",
    "win.show()\n",
    "app.exec_()"
   ]
  },
  {
   "cell_type": "code",
   "execution_count": null,
   "outputs": [],
   "source": [
    "\n"
   ],
   "metadata": {
    "collapsed": false,
    "pycharm": {
     "name": "#%%\n",
     "is_executing": true
    }
   }
  }
 ],
 "metadata": {
  "kernelspec": {
   "display_name": "Python 3",
   "language": "python",
   "name": "python3"
  },
  "language_info": {
   "codemirror_mode": {
    "name": "ipython",
    "version": 3
   },
   "file_extension": ".py",
   "mimetype": "text/x-python",
   "name": "python",
   "nbconvert_exporter": "python",
   "pygments_lexer": "ipython3",
   "version": "3.6.6"
  },
  "pycharm": {
   "stem_cell": {
    "cell_type": "raw",
    "source": [],
    "metadata": {
     "collapsed": false
    }
   }
  }
 },
 "nbformat": 4,
 "nbformat_minor": 1
}