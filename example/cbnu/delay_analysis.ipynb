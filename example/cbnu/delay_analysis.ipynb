{
 "cells": [
  {
   "cell_type": "code",
   "execution_count": 59,
   "outputs": [],
   "source": [
    "import os\n",
    "import numpy as np\n",
    "from matplotlib.figure import Figure\n",
    "from matplotlib.backends.backend_agg import FigureCanvasAgg as FigureCanvas\n",
    "from example.cbnu.utils import get_interval\n",
    "from scipy.io import loadmat\n",
    "from scipy.signal import find_peaks\n",
    "from sklearn.cluster import k_means"
   ],
   "metadata": {
    "collapsed": false,
    "pycharm": {
     "name": "#%%\n",
     "is_executing": false
    }
   }
  },
  {
   "cell_type": "markdown",
   "source": [
    "## Parameter settings"
   ],
   "metadata": {
    "collapsed": false,
    "pycharm": {
     "name": "#%% md\n",
     "is_executing": false
    }
   }
  },
  {
   "cell_type": "code",
   "execution_count": 51,
   "outputs": [],
   "source": [
    "sample_rate = 25000\n",
    "num_trials = 40\n",
    "num_delays = 11\n",
    "step_size_delays = 5\n",
    "data_path = 'C:\\\\Users\\\\bodor\\\\Documents\\\\Korea\\\\experiment\\\\alternating_pulses_in_corners\\\\5uA_1ms_1Hz_cathodic\\\\Stim_Location_Green(ch61)_Blue(ch57)'\n",
    "cell_path = os.path.join(data_path, 'spiketimes')"
   ],
   "metadata": {
    "collapsed": false,
    "pycharm": {
     "name": "#%%\n",
     "is_executing": false
    }
   }
  },
  {
   "cell_type": "markdown",
   "source": [
    "## Load data"
   ],
   "metadata": {
    "collapsed": false
   }
  },
  {
   "cell_type": "code",
   "execution_count": 105,
   "outputs": [],
   "source": [
    "cell_names = os.listdir(cell_path)\n",
    "output_path = os.path.join(data_path, 'plots')\n",
    "if not os.path.exists(output_path):\n",
    "    os.makedirs(output_path)\n",
    "\n",
    "spike_times = {}\n",
    "for cell_name in cell_names:\n",
    "    spike_times[cell_name[:-4]] = loadmat(os.path.join(cell_path, cell_name), \n",
    "                                          squeeze_me=True)['timestamps']\n",
    "\n",
    "trigger_times = []\n",
    "for filename in os.listdir(data_path):\n",
    "    if 'trigger_times' in filename:\n",
    "        trigger_times.append(np.loadtxt(os.path.join(data_path, filename))/1e6)\n",
    "\n",
    "plot_kwargs = {'pre': 0.01, 'post': 0.09, 'num_bins': 50, \n",
    "               'cells_to_plot': None}"
   ],
   "metadata": {
    "collapsed": false,
    "pycharm": {
     "name": "#%%\n",
     "is_executing": false
    }
   }
  },
  {
   "cell_type": "markdown",
   "source": [
    "## Plotting"
   ],
   "metadata": {
    "collapsed": false,
    "pycharm": {
     "name": "#%% md\n"
    }
   }
  },
  {
   "cell_type": "code",
   "execution_count": 106,
   "outputs": [],
   "source": [
    "def get_peaks(_spike_times, _trigger_times, path, _delay, _sample_rate, \n",
    "              _cell_name, save_plot, **_kwargs):\n",
    "\n",
    "    num_bins = _kwargs.get('num_bins', None)\n",
    "    if num_bins is None:\n",
    "        num_bins = 'auto'\n",
    "\n",
    "    diff = np.diff(_trigger_times)\n",
    "    m = np.median(diff)\n",
    "\n",
    "    pre = _kwargs.get('pre', None)\n",
    "    if pre is None:\n",
    "        pre = 1\n",
    "        if pre > m:\n",
    "            pre = m\n",
    "\n",
    "    post = _kwargs.get('post', None)\n",
    "    if post is None:\n",
    "        post = 1\n",
    "        if post > m:\n",
    "            post = m\n",
    "    \n",
    "    spike_times_section = get_interval(_spike_times, _trigger_times[0] - pre,\n",
    "                                       _trigger_times[-1] + post)\n",
    "\n",
    "    spike_times_zerocentered = []\n",
    "    \n",
    "    figure = Figure()\n",
    "    canvas = FigureCanvas(figure)\n",
    "    axes = figure.subplots(1, 1)\n",
    "    axes.set_xlabel(\"Time [ms]\")\n",
    "    for trigger_time in _trigger_times:\n",
    "        t_pre = trigger_time - pre\n",
    "        t_post = trigger_time + post\n",
    "        \n",
    "        x = get_interval(spike_times_section, t_pre, t_post)\n",
    "        if len(x):\n",
    "            x -= trigger_time\n",
    "        # Seconds to ms\n",
    "        x *= 1e3\n",
    "        spike_times_zerocentered.append(x)\n",
    "        \n",
    "    counts, bin_edges, _ = axes.hist(np.concatenate(spike_times_zerocentered),\n",
    "                                     num_bins, histtype='stepfilled',\n",
    "                                     facecolor='k', align='left')\n",
    "    \n",
    "    # median = np.median(counts)\n",
    "    # mad = np.median(np.abs(counts - median))\n",
    "    # min_height = median + 5 * mad\n",
    "    mean = np.mean(counts)\n",
    "    std = np.std(counts)\n",
    "    min_height = mean + 2 * std\n",
    "    peak_idxs, _ = find_peaks(counts, min_height)\n",
    "    peak_heights = counts[peak_idxs]\n",
    "    sort_idxs = np.argsort(peak_heights)\n",
    "    max_peak_idxs = peak_idxs[sort_idxs][-2:]\n",
    "    \n",
    "    ymax = axes.get_ylim()[1]\n",
    "    peak_times = []\n",
    "    if len(max_peak_idxs) > 0:\n",
    "        peak_time = bin_edges[max_peak_idxs[0]]\n",
    "        axes.vlines(peak_time, 0, ymax, color='g')\n",
    "        peak_times.append(peak_time)\n",
    "    if len(max_peak_idxs) > 1:\n",
    "        peak_time = bin_edges[max_peak_idxs[1]]\n",
    "        axes.vlines(peak_time, 0, ymax, color='b')\n",
    "        peak_times.append(peak_time)\n",
    "\n",
    "    if save_plot:\n",
    "        pre_ms = 1e3 * pre\n",
    "        post_ms = 1e3 * post\n",
    "        axes.set_xlim(-pre_ms, post_ms)\n",
    "        axes.vlines(0, 0, ymax, color='r')\n",
    "        axes.hlines(min_height, -pre_ms, post_ms, color='y')    \n",
    "        figure.subplots_adjust(wspace=0, hspace=0)\n",
    "        filepath = os.path.join(path, 'PSTH_{}_{}.png'.format(_cell_name, _delay))\n",
    "        canvas.print_figure(filepath, bbox_inches='tight', dpi=100)\n",
    "\n",
    "    return peak_times\n",
    "\n",
    "peaks = [[] for _ in range(num_delays)]\n",
    "peak_diffs = [[] for _ in range(num_delays)]\n",
    "cells_to_plot = plot_kwargs.get('cells_to_plot', None)\n",
    "for cell_name, cell_spikes in spike_times.items():\n",
    "    if cells_to_plot is not None and cell_name not in cells_to_plot:\n",
    "            continue\n",
    "    for i in range(num_delays):\n",
    "        delay = step_size_delays * i\n",
    "        window = slice(i * num_trials, (i + 1) * num_trials)\n",
    "        cell_peaks = get_peaks(cell_spikes, trigger_times[0][window], output_path,\n",
    "                               delay, sample_rate, cell_name, False, **plot_kwargs)\n",
    "        if len(cell_peaks) == 2:\n",
    "            peak_diffs[i].append(np.abs(cell_peaks[1] - cell_peaks[0]))\n",
    "        elif len(cell_peaks) == 1:\n",
    "            if i == 0:\n",
    "                peak_diffs[i].append(cell_peaks[0])\n",
    "            # if i == 1:\n",
    "            #     peak_diffs[i].append(cell_peaks[0])\n",
    "        peaks[i] += cell_peaks"
   ],
   "metadata": {
    "collapsed": false,
    "pycharm": {
     "name": "#%%\n",
     "is_executing": false
    }
   }
  },
  {
   "cell_type": "code",
   "execution_count": 115,
   "outputs": [],
   "source": [
    "figure = Figure()\n",
    "canvas = FigureCanvas(figure)\n",
    "axes = figure.subplots(1, 1)\n",
    "axes.boxplot(peak_diffs, notch=True, patch_artist=True) \n",
    "axes.set_xticklabels(step_size_delays * np.arange(num_delays))\n",
    "axes.set_xlabel(\"Stimulus delay [ms]\")\n",
    "axes.set_ylabel(\"Response delay [ms]\")\n",
    "axes.plot([1, num_delays], [0, step_size_delays * (num_delays - 1)])\n",
    "canvas.print_figure(os.path.join(output_path, 'delay_diffs'), bbox_inches='tight', dpi=100)"
   ],
   "metadata": {
    "collapsed": false,
    "pycharm": {
     "name": "#%%\n",
     "is_executing": false
    }
   }
  },
  {
   "cell_type": "code",
   "execution_count": 114,
   "outputs": [],
   "source": [
    "figure = Figure()\n",
    "canvas = FigureCanvas(figure)\n",
    "axes = figure.subplots(1, 1)\n",
    "colors = ['b', 'g']\n",
    "cluster_means = [[], []]\n",
    "for i, delay_peaks in enumerate(peaks):\n",
    "    target_delay = i * step_size_delays\n",
    "    delay_peaks = np.array(delay_peaks)\n",
    "    weights = np.ones_like(delay_peaks)\n",
    "    weights[delay_peaks > target_delay + 30] = 0.1\n",
    "    weights[delay_peaks < 0] = 0\n",
    "    c = colors[0]\n",
    "    kwargs = dict(boxprops=dict(facecolor=c, color=c), capprops=dict(color=c),\n",
    "                  whiskerprops=dict(color=c), \n",
    "                  flierprops=dict(color=c, markeredgecolor=c))\n",
    "    if i == 0:\n",
    "        mean, _, _ = k_means(np.expand_dims(delay_peaks, -1), 1, weights,\n",
    "                             np.array([[0]]), n_init=1, n_jobs=-1)\n",
    "        axes.boxplot(delay_peaks, notch=True, patch_artist=True, positions=[i],\n",
    "                     **kwargs)\n",
    "        cluster_means[0].append(mean)\n",
    "        cluster_means[1].append(mean)\n",
    "    else:\n",
    "        means, labels, _ = k_means(np.expand_dims(delay_peaks, -1), 2, weights,\n",
    "                                   np.array([[0], [target_delay]]), n_init=1, n_jobs=-1)\n",
    "        means_sorted = np.sort(means, 0)\n",
    "        if not np.array_equal(means, means_sorted):\n",
    "            labels = np.logical_not(labels)\n",
    "            means = means_sorted\n",
    "        for cluster_id in [0, 1]:\n",
    "            cluster = delay_peaks[labels == cluster_id]\n",
    "            mean = means[cluster_id]\n",
    "            c = colors[cluster_id]\n",
    "            kwargs = dict(boxprops=dict(facecolor=c, color=c), \n",
    "                          capprops=dict(color=c), whiskerprops=dict(color=c), \n",
    "                          flierprops=dict(color=c, markeredgecolor=c))\n",
    "            axes.boxplot(cluster, notch=True, patch_artist=True, positions=[i],\n",
    "                         **kwargs)\n",
    "            axes.plot(i, mean)\n",
    "            cluster_means[cluster_id].append(mean)\n",
    "axes.set_xticks(np.arange(num_delays))\n",
    "axes.set_xticklabels(step_size_delays * np.arange(num_delays))\n",
    "axes.set_xlabel(\"Stimulus delay [ms]\")\n",
    "axes.set_ylabel(\"Response times [ms]\")\n",
    "axes.plot([0, 10], [0, 50], colors[1])\n",
    "axes.plot(cluster_means[0], colors[0], linestyle='--')\n",
    "axes.plot(cluster_means[1], colors[1], linestyle='--')\n",
    "offset = np.mean(cluster_means[0])\n",
    "axes.plot(np.array(cluster_means[0]) - offset, colors[0], linestyle=':')\n",
    "axes.plot(np.array(cluster_means[1]) - offset, colors[1], linestyle=':')\n",
    "axes.hlines(0, 0, 10, colors[0])\n",
    "canvas.print_figure(os.path.join(output_path, 'peaks'), bbox_inches='tight', dpi=100)"
   ],
   "metadata": {
    "collapsed": false,
    "pycharm": {
     "name": "#%%\n",
     "is_executing": false
    }
   }
  },
  {
   "cell_type": "code",
   "execution_count": null,
   "outputs": [],
   "source": [],
   "metadata": {
    "collapsed": false,
    "pycharm": {
     "name": "#%%\n"
    }
   }
  }
 ],
 "metadata": {
  "kernelspec": {
   "display_name": "Python 3",
   "language": "python",
   "name": "python3"
  },
  "language_info": {
   "codemirror_mode": {
    "name": "ipython",
    "version": 2
   },
   "file_extension": ".py",
   "mimetype": "text/x-python",
   "name": "python",
   "nbconvert_exporter": "python",
   "pygments_lexer": "ipython2",
   "version": "2.7.6"
  },
  "pycharm": {
   "stem_cell": {
    "cell_type": "raw",
    "source": [
     "# coding=utf-8\n"
    ],
    "metadata": {
     "collapsed": false
    }
   }
  }
 },
 "nbformat": 4,
 "nbformat_minor": 0
}